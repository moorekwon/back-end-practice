{
 "cells": [
  {
   "cell_type": "code",
   "execution_count": 5,
   "metadata": {},
   "outputs": [],
   "source": [
    "class User:\n",
    "    def __init__(self, name):\n",
    "        self.name = name\n",
    "        self.power = 0\n",
    "        self.armor = 0\n",
    "        \n",
    "    def equip(self, item):\n",
    "        if hasattr(item, 'power'):\n",
    "            self.power += item.power\n",
    "        if hasattr(item, 'armor'):\n",
    "            self.armor += item.armor\n",
    "            \n",
    "    def show_info(self):\n",
    "        print(f'name: {self.name}, power: {self.power}, armor: {self.armor}')\n",
    "        \n",
    "class Sword:\n",
    "    def __init__(self, power):\n",
    "        self.power = power\n",
    "        \n",
    "class Shield:\n",
    "    def __init__(self, armor):\n",
    "        self.armor = armor"
   ]
  },
  {
   "cell_type": "code",
   "execution_count": 10,
   "metadata": {},
   "outputs": [
    {
     "name": "stdout",
     "output_type": "stream",
     "text": [
      "name: lhy, power: 10, armor: 20\n"
     ]
    }
   ],
   "source": [
    "user = User('lhy')\n",
    "user.equip(Sword(10))\n",
    "user.equip(Shield(20))\n",
    "user.show_info()"
   ]
  },
  {
   "cell_type": "code",
   "execution_count": 11,
   "metadata": {},
   "outputs": [
    {
     "name": "stdout",
     "output_type": "stream",
     "text": [
      "name: lhy, power: 30, armor: 20\n"
     ]
    }
   ],
   "source": [
    "user.equip(Sword(20))\n",
    "user.show_info()"
   ]
  }
 ],
 "metadata": {
  "kernelspec": {
   "display_name": "Python 3",
   "language": "python",
   "name": "python3"
  },
  "language_info": {
   "codemirror_mode": {
    "name": "ipython",
    "version": 3
   },
   "file_extension": ".py",
   "mimetype": "text/x-python",
   "name": "python",
   "nbconvert_exporter": "python",
   "pygments_lexer": "ipython3",
   "version": "3.7.4"
  }
 },
 "nbformat": 4,
 "nbformat_minor": 2
}
