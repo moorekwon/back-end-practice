{
 "cells": [
  {
   "cell_type": "code",
   "execution_count": 46,
   "metadata": {},
   "outputs": [],
   "source": [
    "arr = []\n",
    "count = 0\n",
    "\n",
    "def add_back(data):\n",
    "    global count\n",
    "    \n",
    "    arr.append(data)\n",
    "    count += 1\n",
    "    \n",
    "def add_first(data):\n",
    "    global count\n",
    "    \n",
    "    arr.append(arr[-1])\n",
    "    print('arr before >> ', arr)\n",
    "    \n",
    "    for i in reversed(range(count)):\n",
    "        arr[i] = arr[i-1]\n",
    "    print('arr after >> ', arr)\n",
    "    \n",
    "    arr[0] = data\n",
    "    count += 1"
   ]
  },
  {
   "cell_type": "code",
   "execution_count": 47,
   "metadata": {},
   "outputs": [],
   "source": [
    "add_back(3)\n",
    "add_back(4)\n",
    "add_back(5)\n",
    "add_back(6)"
   ]
  },
  {
   "cell_type": "code",
   "execution_count": 48,
   "metadata": {},
   "outputs": [
    {
     "data": {
      "text/plain": [
       "[3, 4, 5, 6]"
      ]
     },
     "execution_count": 48,
     "metadata": {},
     "output_type": "execute_result"
    }
   ],
   "source": [
    "arr"
   ]
  },
  {
   "cell_type": "code",
   "execution_count": 49,
   "metadata": {},
   "outputs": [
    {
     "name": "stdout",
     "output_type": "stream",
     "text": [
      "arr before >>  [3, 4, 5, 6, 6]\n",
      "arr after >>  [6, 3, 4, 5, 6]\n",
      "arr before >>  [7, 3, 4, 5, 6, 6]\n",
      "arr after >>  [6, 7, 3, 4, 5, 6]\n",
      "arr before >>  [8, 7, 3, 4, 5, 6, 6]\n",
      "arr after >>  [6, 8, 7, 3, 4, 5, 6]\n",
      "arr before >>  [1, 8, 7, 3, 4, 5, 6, 6]\n",
      "arr after >>  [6, 1, 8, 7, 3, 4, 5, 6]\n"
     ]
    }
   ],
   "source": [
    "add_first(7)\n",
    "add_first(8)\n",
    "add_first(1)\n",
    "add_first(0)"
   ]
  },
  {
   "cell_type": "code",
   "execution_count": 50,
   "metadata": {},
   "outputs": [
    {
     "data": {
      "text/plain": [
       "[0, 1, 8, 7, 3, 4, 5, 6]"
      ]
     },
     "execution_count": 50,
     "metadata": {},
     "output_type": "execute_result"
    }
   ],
   "source": [
    "arr"
   ]
  }
 ],
 "metadata": {
  "kernelspec": {
   "display_name": "Python 3",
   "language": "python",
   "name": "python3"
  },
  "language_info": {
   "codemirror_mode": {
    "name": "ipython",
    "version": 3
   },
   "file_extension": ".py",
   "mimetype": "text/x-python",
   "name": "python",
   "nbconvert_exporter": "python",
   "pygments_lexer": "ipython3",
   "version": "3.7.5"
  }
 },
 "nbformat": 4,
 "nbformat_minor": 4
}
