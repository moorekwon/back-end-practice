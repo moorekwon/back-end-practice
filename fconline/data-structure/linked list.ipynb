{
 "cells": [
  {
   "cell_type": "code",
   "execution_count": null,
   "metadata": {},
   "outputs": [],
   "source": [
    "# 배열 기반 리스트\n",
    "arr = []\n",
    "count = 0\n",
    "\n",
    "def add_back(data):\n",
    "    global count\n",
    "    \n",
    "    arr.append(data)\n",
    "    count += 1\n",
    "    \n",
    "def add_first(data):\n",
    "    global count\n",
    "    \n",
    "    arr.append(arr[-1])\n",
    "    print('arr before >> ', arr)\n",
    "    \n",
    "    for i in reversed(range(count)):\n",
    "        arr[i] = arr[i-1]\n",
    "    print('arr after >> ', arr)\n",
    "    \n",
    "    arr[0] = data\n",
    "    count += 1"
   ]
  },
  {
   "cell_type": "code",
   "execution_count": null,
   "metadata": {},
   "outputs": [],
   "source": [
    "add_back(3)\n",
    "add_back(4)\n",
    "add_back(5)\n",
    "add_back(6)"
   ]
  },
  {
   "cell_type": "code",
   "execution_count": null,
   "metadata": {},
   "outputs": [],
   "source": [
    "arr"
   ]
  },
  {
   "cell_type": "code",
   "execution_count": null,
   "metadata": {},
   "outputs": [],
   "source": [
    "add_first(7)\n",
    "add_first(8)\n",
    "add_first(1)\n",
    "add_first(0)"
   ]
  },
  {
   "cell_type": "code",
   "execution_count": null,
   "metadata": {},
   "outputs": [],
   "source": [
    "arr"
   ]
  },
  {
   "cell_type": "code",
   "execution_count": null,
   "metadata": {},
   "outputs": [],
   "source": []
  },
  {
   "cell_type": "code",
   "execution_count": null,
   "metadata": {},
   "outputs": [],
   "source": [
    "# 링크드 리스트\n",
    "class Node:\n",
    "    def __init__(self, data, next=None):\n",
    "        self.data = data\n",
    "        self.next = next\n",
    "        \n",
    "def add(data):\n",
    "    node = head\n",
    "    \n",
    "    while node.next:\n",
    "        node = node.next\n",
    "    \n",
    "    node.next = Node(data)"
   ]
  },
  {
   "cell_type": "code",
   "execution_count": null,
   "metadata": {},
   "outputs": [],
   "source": [
    "head = Node(1)\n",
    "print('head.data >> ', head.data)\n",
    "\n",
    "for index in range(2, 9):\n",
    "    add(index)"
   ]
  },
  {
   "cell_type": "code",
   "execution_count": null,
   "metadata": {},
   "outputs": [],
   "source": [
    "node = head\n",
    "print('node.data >> ', node.data)\n",
    "\n",
    "while node.next:\n",
    "    print(node.data)\n",
    "    node = node.next\n",
    "print(node.data)"
   ]
  },
  {
   "cell_type": "code",
   "execution_count": null,
   "metadata": {},
   "outputs": [],
   "source": [
    "# 특정 노드 삽입\n",
    "node = head\n",
    "print('node.data >> ', node.data)\n",
    "node3 = Node(2.5)\n",
    "\n",
    "while True:\n",
    "    if node.data == 2:\n",
    "        print('node.data >> ', node.data)\n",
    "        break\n",
    "    else:\n",
    "        node = node.next\n",
    "        \n",
    "node_next = node.next\n",
    "node.next = node3\n",
    "node3.next = node_next"
   ]
  },
  {
   "cell_type": "code",
   "execution_count": null,
   "metadata": {},
   "outputs": [],
   "source": [
    "node = head\n",
    "print('node.data >> ', node.data)\n",
    "\n",
    "while node.next:\n",
    "    print(node.data)\n",
    "    node = node.next\n",
    "print(node.data)"
   ]
  },
  {
   "cell_type": "code",
   "execution_count": null,
   "metadata": {},
   "outputs": [],
   "source": []
  },
  {
   "cell_type": "code",
   "execution_count": 2,
   "metadata": {},
   "outputs": [],
   "source": [
    "# 특정 노드 삭제\n",
    "class Node:\n",
    "    def __init__(self, data, next=None):\n",
    "        self.data = data\n",
    "        self.next = next\n",
    "        print('data a >> ', data)\n",
    "        print()\n",
    "        \n",
    "class NodeMgnt:\n",
    "    def __init__(self, data):\n",
    "        self.head = Node(data)\n",
    "        \n",
    "    # 데이터 순회\n",
    "    def desc(self):\n",
    "        node = self.head\n",
    "        \n",
    "        while node:\n",
    "            print(node.data)\n",
    "            node = node.next\n",
    "        \n",
    "    # 데이터를 맨 끝에 추가\n",
    "    def add(self, data):\n",
    "        # 방어 코드\n",
    "        if self.head == '':\n",
    "            self.head = Node(data)\n",
    "            \n",
    "        else:\n",
    "            node = self.head\n",
    "            print('node.data>> ', node.data)\n",
    "        \n",
    "            while node.next:\n",
    "                print('node.next.data a >> ', node.next.data)\n",
    "                node = node.next\n",
    "        \n",
    "            node.next = Node(data)\n",
    "            \n",
    "    # 데이터 삭제\n",
    "    def delete(self, data):\n",
    "        # 방어 코드\n",
    "        if self.head == '':\n",
    "            return\n",
    "        \n",
    "        print('self.head.data a >> ', self.head.data)\n",
    "        print('data b >> ', data)\n",
    "        print()\n",
    "        if self.head.data == data:\n",
    "            temp = self.head\n",
    "            print('temp.data a >> ', temp.data)\n",
    "            self.head = self.head.next\n",
    "            print('self.head.data >> ', self.head.data)\n",
    "            del temp\n",
    "            \n",
    "        else:\n",
    "            print('self.head.data b >> ', self.head.data)\n",
    "            node = self.head\n",
    "            \n",
    "            while node.next:\n",
    "                print('node.next.data b >> ', node.next.data)\n",
    "                print('data c >> ', data)\n",
    "                print()\n",
    "                if node.next.data == data:\n",
    "                    temp = node.next\n",
    "                    print('temp.data b >> ', temp.data)\n",
    "                    node.next = node.next.next\n",
    "                    del temp\n",
    "                    return\n",
    "                \n",
    "                else:\n",
    "                    print('node.next.data c >> ', node.next.data)\n",
    "                    node = node.next"
   ]
  },
  {
   "cell_type": "code",
   "execution_count": 3,
   "metadata": {},
   "outputs": [
    {
     "name": "stdout",
     "output_type": "stream",
     "text": [
      "data a >>  0\n",
      "\n",
      "0\n"
     ]
    }
   ],
   "source": [
    "linkedlist1 = NodeMgnt(0)\n",
    "linkedlist1.desc()"
   ]
  },
  {
   "cell_type": "code",
   "execution_count": 4,
   "metadata": {},
   "outputs": [
    {
     "data": {
      "text/plain": [
       "<__main__.Node at 0x7fa370b594d0>"
      ]
     },
     "execution_count": 4,
     "metadata": {},
     "output_type": "execute_result"
    }
   ],
   "source": [
    "linkedlist1.head"
   ]
  },
  {
   "cell_type": "code",
   "execution_count": 5,
   "metadata": {},
   "outputs": [
    {
     "name": "stdout",
     "output_type": "stream",
     "text": [
      "self.head.data a >>  0\n",
      "data b >>  0\n",
      "\n",
      "temp.data a >>  0\n"
     ]
    },
    {
     "ename": "AttributeError",
     "evalue": "'NoneType' object has no attribute 'data'",
     "output_type": "error",
     "traceback": [
      "\u001b[0;31m---------------------------------------------------------------------------\u001b[0m",
      "\u001b[0;31mAttributeError\u001b[0m                            Traceback (most recent call last)",
      "\u001b[0;32m<ipython-input-5-41b3aef5ecf8>\u001b[0m in \u001b[0;36m<module>\u001b[0;34m\u001b[0m\n\u001b[1;32m      1\u001b[0m \u001b[0;31m# 맨앞 헤드 노드 삭제\u001b[0m\u001b[0;34m\u001b[0m\u001b[0;34m\u001b[0m\u001b[0;34m\u001b[0m\u001b[0m\n\u001b[0;32m----> 2\u001b[0;31m \u001b[0mlinkedlist1\u001b[0m\u001b[0;34m.\u001b[0m\u001b[0mdelete\u001b[0m\u001b[0;34m(\u001b[0m\u001b[0;36m0\u001b[0m\u001b[0;34m)\u001b[0m\u001b[0;34m\u001b[0m\u001b[0;34m\u001b[0m\u001b[0m\n\u001b[0m",
      "\u001b[0;32m<ipython-input-2-1fe54bc7f205>\u001b[0m in \u001b[0;36mdelete\u001b[0;34m(self, data)\u001b[0m\n\u001b[1;32m     48\u001b[0m             \u001b[0mprint\u001b[0m\u001b[0;34m(\u001b[0m\u001b[0;34m'temp.data a >> '\u001b[0m\u001b[0;34m,\u001b[0m \u001b[0mtemp\u001b[0m\u001b[0;34m.\u001b[0m\u001b[0mdata\u001b[0m\u001b[0;34m)\u001b[0m\u001b[0;34m\u001b[0m\u001b[0;34m\u001b[0m\u001b[0m\n\u001b[1;32m     49\u001b[0m             \u001b[0mself\u001b[0m\u001b[0;34m.\u001b[0m\u001b[0mhead\u001b[0m \u001b[0;34m=\u001b[0m \u001b[0mself\u001b[0m\u001b[0;34m.\u001b[0m\u001b[0mhead\u001b[0m\u001b[0;34m.\u001b[0m\u001b[0mnext\u001b[0m\u001b[0;34m\u001b[0m\u001b[0;34m\u001b[0m\u001b[0m\n\u001b[0;32m---> 50\u001b[0;31m             \u001b[0mprint\u001b[0m\u001b[0;34m(\u001b[0m\u001b[0;34m'self.head.data >> '\u001b[0m\u001b[0;34m,\u001b[0m \u001b[0mself\u001b[0m\u001b[0;34m.\u001b[0m\u001b[0mhead\u001b[0m\u001b[0;34m.\u001b[0m\u001b[0mdata\u001b[0m\u001b[0;34m)\u001b[0m\u001b[0;34m\u001b[0m\u001b[0;34m\u001b[0m\u001b[0m\n\u001b[0m\u001b[1;32m     51\u001b[0m             \u001b[0;32mdel\u001b[0m \u001b[0mtemp\u001b[0m\u001b[0;34m\u001b[0m\u001b[0;34m\u001b[0m\u001b[0m\n\u001b[1;32m     52\u001b[0m \u001b[0;34m\u001b[0m\u001b[0m\n",
      "\u001b[0;31mAttributeError\u001b[0m: 'NoneType' object has no attribute 'data'"
     ]
    }
   ],
   "source": [
    "# 맨앞 헤드 노드 삭제\n",
    "linkedlist1.delete(0)"
   ]
  },
  {
   "cell_type": "code",
   "execution_count": 6,
   "metadata": {},
   "outputs": [],
   "source": [
    "linkedlist1.head"
   ]
  },
  {
   "cell_type": "code",
   "execution_count": 7,
   "metadata": {},
   "outputs": [
    {
     "name": "stdout",
     "output_type": "stream",
     "text": [
      "data a >>  0\n",
      "\n",
      "0\n"
     ]
    }
   ],
   "source": [
    "linkedlist1 = NodeMgnt(0)\n",
    "linkedlist1.desc()"
   ]
  },
  {
   "cell_type": "code",
   "execution_count": 8,
   "metadata": {},
   "outputs": [
    {
     "name": "stdout",
     "output_type": "stream",
     "text": [
      "node.data>>  0\n",
      "data a >>  1\n",
      "\n",
      "node.data>>  0\n",
      "node.next.data a >>  1\n",
      "data a >>  2\n",
      "\n",
      "node.data>>  0\n",
      "node.next.data a >>  1\n",
      "node.next.data a >>  2\n",
      "data a >>  3\n",
      "\n",
      "node.data>>  0\n",
      "node.next.data a >>  1\n",
      "node.next.data a >>  2\n",
      "node.next.data a >>  3\n",
      "data a >>  4\n",
      "\n",
      "node.data>>  0\n",
      "node.next.data a >>  1\n",
      "node.next.data a >>  2\n",
      "node.next.data a >>  3\n",
      "node.next.data a >>  4\n",
      "data a >>  5\n",
      "\n",
      "node.data>>  0\n",
      "node.next.data a >>  1\n",
      "node.next.data a >>  2\n",
      "node.next.data a >>  3\n",
      "node.next.data a >>  4\n",
      "node.next.data a >>  5\n",
      "data a >>  6\n",
      "\n",
      "node.data>>  0\n",
      "node.next.data a >>  1\n",
      "node.next.data a >>  2\n",
      "node.next.data a >>  3\n",
      "node.next.data a >>  4\n",
      "node.next.data a >>  5\n",
      "node.next.data a >>  6\n",
      "data a >>  7\n",
      "\n",
      "node.data>>  0\n",
      "node.next.data a >>  1\n",
      "node.next.data a >>  2\n",
      "node.next.data a >>  3\n",
      "node.next.data a >>  4\n",
      "node.next.data a >>  5\n",
      "node.next.data a >>  6\n",
      "node.next.data a >>  7\n",
      "data a >>  8\n",
      "\n",
      "node.data>>  0\n",
      "node.next.data a >>  1\n",
      "node.next.data a >>  2\n",
      "node.next.data a >>  3\n",
      "node.next.data a >>  4\n",
      "node.next.data a >>  5\n",
      "node.next.data a >>  6\n",
      "node.next.data a >>  7\n",
      "node.next.data a >>  8\n",
      "data a >>  9\n",
      "\n",
      "0\n",
      "1\n",
      "2\n",
      "3\n",
      "4\n",
      "5\n",
      "6\n",
      "7\n",
      "8\n",
      "9\n"
     ]
    }
   ],
   "source": [
    "for data in range(1, 10):\n",
    "    linkedlist1.add(data)\n",
    "linkedlist1.desc()"
   ]
  },
  {
   "cell_type": "code",
   "execution_count": 9,
   "metadata": {},
   "outputs": [
    {
     "name": "stdout",
     "output_type": "stream",
     "text": [
      "self.head.data a >>  0\n",
      "data b >>  4\n",
      "\n",
      "self.head.data b >>  0\n",
      "node.next.data b >>  1\n",
      "data c >>  4\n",
      "\n",
      "node.next.data c >>  1\n",
      "node.next.data b >>  2\n",
      "data c >>  4\n",
      "\n",
      "node.next.data c >>  2\n",
      "node.next.data b >>  3\n",
      "data c >>  4\n",
      "\n",
      "node.next.data c >>  3\n",
      "node.next.data b >>  4\n",
      "data c >>  4\n",
      "\n",
      "temp.data b >>  4\n"
     ]
    }
   ],
   "source": [
    "# 중간 노드 삭제\n",
    "linkedlist1.delete(4)"
   ]
  },
  {
   "cell_type": "code",
   "execution_count": 10,
   "metadata": {},
   "outputs": [
    {
     "name": "stdout",
     "output_type": "stream",
     "text": [
      "0\n",
      "1\n",
      "2\n",
      "3\n",
      "5\n",
      "6\n",
      "7\n",
      "8\n",
      "9\n"
     ]
    }
   ],
   "source": [
    "linkedlist1.desc()"
   ]
  },
  {
   "cell_type": "code",
   "execution_count": 11,
   "metadata": {},
   "outputs": [
    {
     "name": "stdout",
     "output_type": "stream",
     "text": [
      "self.head.data a >>  0\n",
      "data b >>  9\n",
      "\n",
      "self.head.data b >>  0\n",
      "node.next.data b >>  1\n",
      "data c >>  9\n",
      "\n",
      "node.next.data c >>  1\n",
      "node.next.data b >>  2\n",
      "data c >>  9\n",
      "\n",
      "node.next.data c >>  2\n",
      "node.next.data b >>  3\n",
      "data c >>  9\n",
      "\n",
      "node.next.data c >>  3\n",
      "node.next.data b >>  5\n",
      "data c >>  9\n",
      "\n",
      "node.next.data c >>  5\n",
      "node.next.data b >>  6\n",
      "data c >>  9\n",
      "\n",
      "node.next.data c >>  6\n",
      "node.next.data b >>  7\n",
      "data c >>  9\n",
      "\n",
      "node.next.data c >>  7\n",
      "node.next.data b >>  8\n",
      "data c >>  9\n",
      "\n",
      "node.next.data c >>  8\n",
      "node.next.data b >>  9\n",
      "data c >>  9\n",
      "\n",
      "temp.data b >>  9\n"
     ]
    }
   ],
   "source": [
    "# 마지막 노드 삭제\n",
    "linkedlist1.delete(9)"
   ]
  },
  {
   "cell_type": "code",
   "execution_count": 12,
   "metadata": {},
   "outputs": [
    {
     "name": "stdout",
     "output_type": "stream",
     "text": [
      "0\n",
      "1\n",
      "2\n",
      "3\n",
      "5\n",
      "6\n",
      "7\n",
      "8\n"
     ]
    }
   ],
   "source": [
    "linkedlist1.desc()"
   ]
  },
  {
   "cell_type": "code",
   "execution_count": null,
   "metadata": {},
   "outputs": [],
   "source": []
  },
  {
   "cell_type": "code",
   "execution_count": 13,
   "metadata": {},
   "outputs": [],
   "source": [
    "# 다양한 링크드 리스트 구조\n",
    "# 더블 링크드 리스트"
   ]
  }
 ],
 "metadata": {
  "kernelspec": {
   "display_name": "Python 3",
   "language": "python",
   "name": "python3"
  },
  "language_info": {
   "codemirror_mode": {
    "name": "ipython",
    "version": 3
   },
   "file_extension": ".py",
   "mimetype": "text/x-python",
   "name": "python",
   "nbconvert_exporter": "python",
   "pygments_lexer": "ipython3",
   "version": "3.7.5"
  }
 },
 "nbformat": 4,
 "nbformat_minor": 4
}
