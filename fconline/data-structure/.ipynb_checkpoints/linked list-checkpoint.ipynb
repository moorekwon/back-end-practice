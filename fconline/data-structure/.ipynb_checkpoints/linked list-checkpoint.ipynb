{
 "cells": [
  {
   "cell_type": "code",
   "execution_count": null,
   "metadata": {},
   "outputs": [],
   "source": [
    "# 배열 기반 리스트\n",
    "\n",
    "arr = []\n",
    "count = 0\n",
    "\n",
    "def add_back(data):\n",
    "    global count\n",
    "    \n",
    "    arr.append(data)\n",
    "    count += 1\n",
    "    \n",
    "def add_first(data):\n",
    "    global count\n",
    "    \n",
    "    arr.append(arr[-1])\n",
    "    print('arr before >> ', arr)\n",
    "    \n",
    "    for i in reversed(range(count)):\n",
    "        arr[i] = arr[i-1]\n",
    "    print('arr after >> ', arr)\n",
    "    \n",
    "    arr[0] = data\n",
    "    count += 1"
   ]
  },
  {
   "cell_type": "code",
   "execution_count": null,
   "metadata": {},
   "outputs": [],
   "source": [
    "add_back(3)\n",
    "add_back(4)\n",
    "add_back(5)\n",
    "add_back(6)"
   ]
  },
  {
   "cell_type": "code",
   "execution_count": null,
   "metadata": {},
   "outputs": [],
   "source": [
    "arr"
   ]
  },
  {
   "cell_type": "code",
   "execution_count": null,
   "metadata": {},
   "outputs": [],
   "source": [
    "add_first(7)\n",
    "add_first(8)\n",
    "add_first(1)\n",
    "add_first(0)"
   ]
  },
  {
   "cell_type": "code",
   "execution_count": null,
   "metadata": {},
   "outputs": [],
   "source": [
    "arr"
   ]
  },
  {
   "cell_type": "code",
   "execution_count": null,
   "metadata": {},
   "outputs": [],
   "source": []
  },
  {
   "cell_type": "code",
   "execution_count": 43,
   "metadata": {},
   "outputs": [],
   "source": [
    "# 링크드 리스트\n",
    "class Node:\n",
    "    def __init__(self, data, next=None):\n",
    "        self.data = data\n",
    "        self.next = next\n",
    "        \n",
    "def add(data):\n",
    "    node = head\n",
    "    \n",
    "    while node.next:\n",
    "        node = node.next\n",
    "    \n",
    "    node.next = Node(data)"
   ]
  },
  {
   "cell_type": "code",
   "execution_count": 54,
   "metadata": {},
   "outputs": [
    {
     "name": "stdout",
     "output_type": "stream",
     "text": [
      "head.data >>  1\n"
     ]
    }
   ],
   "source": [
    "head = Node(1)\n",
    "print('head.data >> ', head.data)\n",
    "\n",
    "for index in range(2, 9):\n",
    "    add(index)"
   ]
  },
  {
   "cell_type": "code",
   "execution_count": 56,
   "metadata": {},
   "outputs": [
    {
     "name": "stdout",
     "output_type": "stream",
     "text": [
      "node.data >>  1\n",
      "1\n",
      "2\n",
      "3\n",
      "4\n",
      "5\n",
      "6\n",
      "7\n",
      "8\n"
     ]
    }
   ],
   "source": [
    "node = head\n",
    "print('node.data >> ', node.data)\n",
    "\n",
    "while node.next:\n",
    "    print(node.data)\n",
    "    node = node.next\n",
    "print(node.data)"
   ]
  },
  {
   "cell_type": "code",
   "execution_count": 57,
   "metadata": {},
   "outputs": [
    {
     "name": "stdout",
     "output_type": "stream",
     "text": [
      "node.data >>  1\n",
      "node.data >>  2\n"
     ]
    }
   ],
   "source": [
    "node = head\n",
    "print('node.data >> ', node.data)\n",
    "node3 = Node(2.5)\n",
    "\n",
    "while True:\n",
    "    if node.data == 2:\n",
    "        print('node.data >> ', node.data)\n",
    "        break\n",
    "    else:\n",
    "        node = node.next\n",
    "        \n",
    "node_next = node.next\n",
    "node.next = node3\n",
    "node3.next = node_next"
   ]
  },
  {
   "cell_type": "code",
   "execution_count": 58,
   "metadata": {},
   "outputs": [
    {
     "name": "stdout",
     "output_type": "stream",
     "text": [
      "node.data >>  1\n",
      "1\n",
      "2\n",
      "2.5\n",
      "3\n",
      "4\n",
      "5\n",
      "6\n",
      "7\n",
      "8\n"
     ]
    }
   ],
   "source": [
    "node = head\n",
    "print('node.data >> ', node.data)\n",
    "\n",
    "while node.next:\n",
    "    print(node.data)\n",
    "    node = node.next\n",
    "print(node.data)"
   ]
  }
 ],
 "metadata": {
  "kernelspec": {
   "display_name": "Python 3",
   "language": "python",
   "name": "python3"
  },
  "language_info": {
   "codemirror_mode": {
    "name": "ipython",
    "version": 3
   },
   "file_extension": ".py",
   "mimetype": "text/x-python",
   "name": "python",
   "nbconvert_exporter": "python",
   "pygments_lexer": "ipython3",
   "version": "3.7.4"
  }
 },
 "nbformat": 4,
 "nbformat_minor": 4
}
