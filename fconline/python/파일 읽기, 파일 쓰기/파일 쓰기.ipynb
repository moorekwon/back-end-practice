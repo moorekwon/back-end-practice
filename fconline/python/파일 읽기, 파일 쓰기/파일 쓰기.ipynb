{
 "cells": [
  {
   "cell_type": "code",
   "execution_count": 1,
   "metadata": {},
   "outputs": [],
   "source": [
    "with open('./resource/text1.txt', 'w') as f:\n",
    "    f.write('Niceman!')"
   ]
  },
  {
   "cell_type": "code",
   "execution_count": 2,
   "metadata": {},
   "outputs": [],
   "source": [
    "with open('./resource/text1.txt', 'a') as f:\n",
    "    f.write(' Goodman!')"
   ]
  },
  {
   "cell_type": "code",
   "execution_count": 4,
   "metadata": {},
   "outputs": [],
   "source": [
    "# built-in package\n",
    "from random import randint\n",
    "\n",
    "with open('./resource/text2.txt', 'w') as f:\n",
    "    for cnt in range(6):\n",
    "        f.write(str(randint(1, 50)))\n",
    "        f.write('\\n')"
   ]
  },
  {
   "cell_type": "code",
   "execution_count": 6,
   "metadata": {},
   "outputs": [],
   "source": [
    "with open('./resource/text3.txt', 'w') as f:\n",
    "    list = ['Kwon\\n', 'Park\\n', 'Kim\\n']\n",
    "    # 리스트를 파일로 저장\n",
    "    f.writelines(list)"
   ]
  },
  {
   "cell_type": "code",
   "execution_count": 9,
   "metadata": {},
   "outputs": [],
   "source": [
    "with open('./resource/text4.txt', 'w') as f:\n",
    "    # print문의 file parameter 사용\n",
    "    print('test1', file=f)\n",
    "    print('test2', file=f)"
   ]
  }
 ],
 "metadata": {
  "kernelspec": {
   "display_name": "Python 3",
   "language": "python",
   "name": "python3"
  },
  "language_info": {
   "codemirror_mode": {
    "name": "ipython",
    "version": 3
   },
   "file_extension": ".py",
   "mimetype": "text/x-python",
   "name": "python",
   "nbconvert_exporter": "python",
   "pygments_lexer": "ipython3",
   "version": "3.7.5"
  }
 },
 "nbformat": 4,
 "nbformat_minor": 4
}
