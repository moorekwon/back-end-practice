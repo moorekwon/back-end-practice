{
 "cells": [
  {
   "cell_type": "code",
   "execution_count": null,
   "metadata": {},
   "outputs": [],
   "source": [
    "f = open('./resource/review.txt', 'r')\n",
    "content = f.read()\n",
    "content"
   ]
  },
  {
   "cell_type": "code",
   "execution_count": null,
   "metadata": {},
   "outputs": [],
   "source": [
    "dir(f)"
   ]
  },
  {
   "cell_type": "code",
   "execution_count": null,
   "metadata": {},
   "outputs": [],
   "source": [
    "# 반드시 리소스 반환\n",
    "f.close()"
   ]
  },
  {
   "cell_type": "code",
   "execution_count": null,
   "metadata": {},
   "outputs": [],
   "source": []
  },
  {
   "cell_type": "code",
   "execution_count": null,
   "metadata": {},
   "outputs": [],
   "source": [
    "# with문은 close 안써도 됨\n",
    "with open('./resource/review.txt', 'r') as f:\n",
    "    c = f.read()\n",
    "    print('c >> ', c)\n",
    "    print('list(c) >> ', list(c))\n",
    "    \n",
    "    # for문에서 사용할 수 있는 iterator\n",
    "    print('iter(c) >> ', iter(c))"
   ]
  },
  {
   "cell_type": "code",
   "execution_count": null,
   "metadata": {},
   "outputs": [],
   "source": [
    "with open('./resource/review.txt', 'r') as f:\n",
    "    for c in f:\n",
    "#         print('c >> ', c)\n",
    "        print('c.strip() >> ', c.strip())"
   ]
  },
  {
   "cell_type": "code",
   "execution_count": null,
   "metadata": {},
   "outputs": [],
   "source": [
    "with open('./resource/review.txt', 'r') as f:\n",
    "    content = f.read()\n",
    "#     print('content >> ', content)\n",
    "\n",
    "    # 내용 없음\n",
    "    content = f.read()\n",
    "    print('content >> ', content)"
   ]
  },
  {
   "cell_type": "code",
   "execution_count": 1,
   "metadata": {},
   "outputs": [
    {
     "name": "stdout",
     "output_type": "stream",
     "text": [
      "The film, projected in the form of animation,\n",
      "####imparts the lesson of how wars can be eluded through reasoning and peaceful dialogues,\n",
      "####which eventually paves the path for gaining a fresh perspective on an age-old problem.\n",
      "####The story also happens to centre around two parallel characters, Shundi King and Hundi King,\n",
      "####who are twins, but they constantly fight over unresolved issues planted in their minds\n",
      "####by external forces from within their very own units.####"
     ]
    }
   ],
   "source": [
    "with open('./resource/review.txt', 'r') as f:\n",
    "    # 한문장 단위로 전처리\n",
    "    line = f.readline()\n",
    "#     print('line >> ', line)\n",
    "    \n",
    "    while line:\n",
    "        print(line, end='####')\n",
    "        # 다음 줄이 있으면 line을 print\n",
    "        line = f.readline()"
   ]
  },
  {
   "cell_type": "code",
   "execution_count": 6,
   "metadata": {},
   "outputs": [
    {
     "name": "stdout",
     "output_type": "stream",
     "text": [
      "The film, projected in the form of animation,\n",
      "####imparts the lesson of how wars can be eluded through reasoning and peaceful dialogues,\n",
      "####which eventually paves the path for gaining a fresh perspective on an age-old problem.\n",
      "####The story also happens to centre around two parallel characters, Shundi King and Hundi King,\n",
      "####who are twins, but they constantly fight over unresolved issues planted in their minds\n",
      "####by external forces from within their very own units.####"
     ]
    }
   ],
   "source": [
    "with open('./resource/review.txt', 'r') as f:\n",
    "    contents = f.readlines()\n",
    "#     print('contents >> ', contents)\n",
    "    \n",
    "    for c in contents:\n",
    "        print(c, end='####')"
   ]
  },
  {
   "cell_type": "code",
   "execution_count": 9,
   "metadata": {},
   "outputs": [
    {
     "name": "stdout",
     "output_type": "stream",
     "text": [
      "score >>  [95, 78, 92, 89, 100, 66]\n",
      "  86.7\n"
     ]
    }
   ],
   "source": [
    "score = []\n",
    "with open('./resource/score.txt', 'r') as f:    \n",
    "    for line in f:\n",
    "        score.append(int(line))\n",
    "    print('score >> ', score)\n",
    "    \n",
    "# 6자리, 소수점은 3번째자리까지\n",
    "print('{:6.3}'.format(sum(score)/len(score)))"
   ]
  }
 ],
 "metadata": {
  "kernelspec": {
   "display_name": "Python 3",
   "language": "python",
   "name": "python3"
  },
  "language_info": {
   "codemirror_mode": {
    "name": "ipython",
    "version": 3
   },
   "file_extension": ".py",
   "mimetype": "text/x-python",
   "name": "python",
   "nbconvert_exporter": "python",
   "pygments_lexer": "ipython3",
   "version": "3.7.5"
  }
 },
 "nbformat": 4,
 "nbformat_minor": 4
}
