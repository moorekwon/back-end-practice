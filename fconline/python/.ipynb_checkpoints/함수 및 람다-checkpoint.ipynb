{
 "cells": [
  {
   "cell_type": "code",
   "execution_count": 1,
   "metadata": {},
   "outputs": [
    {
     "name": "stdout",
     "output_type": "stream",
     "text": [
      "hello moore\n"
     ]
    }
   ],
   "source": [
    "def send_sms(world):\n",
    "    print('hello', world)\n",
    "    \n",
    "send_sms('moore')"
   ]
  },
  {
   "cell_type": "code",
   "execution_count": 4,
   "metadata": {},
   "outputs": [
    {
     "data": {
      "text/plain": [
       "'hello moore'"
      ]
     },
     "execution_count": 4,
     "metadata": {},
     "output_type": "execute_result"
    }
   ],
   "source": [
    "def hello_return(world):\n",
    "    val = 'hello ' + str(world)\n",
    "    return val\n",
    "\n",
    "hello_return('moore')"
   ]
  },
  {
   "cell_type": "code",
   "execution_count": 9,
   "metadata": {},
   "outputs": [],
   "source": [
    "# 다중 리턴!\n",
    "def func_mul(x):\n",
    "    y1 = x *100\n",
    "    y2 = x * 200\n",
    "    y3 = x * 300\n",
    "#     return y1, y2, y3\n",
    "    return [y1, y2, y3]\n",
    "\n",
    "# val1, val2, val3 = func_mul(100)\n",
    "lt = func_mul(100)"
   ]
  },
  {
   "cell_type": "code",
   "execution_count": 6,
   "metadata": {},
   "outputs": [
    {
     "data": {
      "text/plain": [
       "10000"
      ]
     },
     "execution_count": 6,
     "metadata": {},
     "output_type": "execute_result"
    }
   ],
   "source": [
    "val1"
   ]
  },
  {
   "cell_type": "code",
   "execution_count": 7,
   "metadata": {},
   "outputs": [
    {
     "data": {
      "text/plain": [
       "20000"
      ]
     },
     "execution_count": 7,
     "metadata": {},
     "output_type": "execute_result"
    }
   ],
   "source": [
    "val2"
   ]
  },
  {
   "cell_type": "code",
   "execution_count": 8,
   "metadata": {},
   "outputs": [
    {
     "data": {
      "text/plain": [
       "30000"
      ]
     },
     "execution_count": 8,
     "metadata": {},
     "output_type": "execute_result"
    }
   ],
   "source": [
    "val3"
   ]
  },
  {
   "cell_type": "code",
   "execution_count": 10,
   "metadata": {},
   "outputs": [
    {
     "data": {
      "text/plain": [
       "[10000, 20000, 30000]"
      ]
     },
     "execution_count": 10,
     "metadata": {},
     "output_type": "execute_result"
    }
   ],
   "source": [
    "lt"
   ]
  },
  {
   "cell_type": "code",
   "execution_count": 16,
   "metadata": {},
   "outputs": [
    {
     "name": "stdout",
     "output_type": "stream",
     "text": [
      "('kwon',)\n",
      "0 kwon\n"
     ]
    }
   ],
   "source": [
    "# *args, *kwargs\n",
    "def args_func(*args):\n",
    "    print(args)\n",
    "    \n",
    "#     for t in args:\n",
    "#         print(t)\n",
    "\n",
    "    for i, v in enumerate(args):\n",
    "        print(i, v)\n",
    "    \n",
    "args_func('kwon')"
   ]
  },
  {
   "cell_type": "code",
   "execution_count": 17,
   "metadata": {},
   "outputs": [
    {
     "name": "stdout",
     "output_type": "stream",
     "text": [
      "('kwon', 'kim', 'lee')\n",
      "0 kwon\n",
      "1 kim\n",
      "2 lee\n"
     ]
    }
   ],
   "source": [
    "args_func('kwon', 'kim', 'lee')"
   ]
  },
  {
   "cell_type": "code",
   "execution_count": 19,
   "metadata": {},
   "outputs": [
    {
     "name": "stdout",
     "output_type": "stream",
     "text": [
      "{'name1': 'kwon', 'name2': 'lee'}\n",
      "name1 kwon\n",
      "name2 lee\n"
     ]
    }
   ],
   "source": [
    "# * -> 튜플, ** -> 딕셔너리\n",
    "def kwargs_func(**kwargs):\n",
    "    print(kwargs)\n",
    "    \n",
    "    for k, v in kwargs.items():\n",
    "        print(k, v)\n",
    "    \n",
    "kwargs_func(name1='kwon', name2='lee')"
   ]
  },
  {
   "cell_type": "code",
   "execution_count": 26,
   "metadata": {},
   "outputs": [
    {
     "name": "stdout",
     "output_type": "stream",
     "text": [
      "19 kwon ('kwon', 'age1') {'age2': 30}\n"
     ]
    }
   ],
   "source": [
    "# arg1, arg2는 필수인자!\n",
    "def example_mul(arg1, arg2, *args, **kwargs):\n",
    "    print(arg1, arg2, args, kwargs)\n",
    "    \n",
    "example_mul(19,'kwon', 'kwon', 'age1', age2=30)"
   ]
  },
  {
   "cell_type": "code",
   "execution_count": 27,
   "metadata": {},
   "outputs": [
    {
     "name": "stdout",
     "output_type": "stream",
     "text": [
      "in func\n",
      "2000\n"
     ]
    }
   ],
   "source": [
    "# 중첩함수(클로저)\n",
    "# 데코레이터\n",
    "def nested_func(num):\n",
    "    # 실행은 안됨\n",
    "    def func_in_func(num):\n",
    "        print(num)\n",
    "    print('in func')\n",
    "    func_in_func(num + 1000)\n",
    "    \n",
    "nested_func(1000)"
   ]
  },
  {
   "cell_type": "code",
   "execution_count": 32,
   "metadata": {},
   "outputs": [
    {
     "data": {
      "text/plain": [
       "[522.2, 1044.4, 1566.6000000000001]"
      ]
     },
     "execution_count": 32,
     "metadata": {},
     "output_type": "execute_result"
    }
   ],
   "source": [
    "# hint\n",
    "def func_mul2(x: int) -> list:\n",
    "    y1 = x *100\n",
    "    y2 = x * 200\n",
    "    y3 = x * 300\n",
    "    return [y1, y2, y3]\n",
    "\n",
    "func_mul2(5.222)"
   ]
  },
  {
   "cell_type": "code",
   "execution_count": 37,
   "metadata": {},
   "outputs": [
    {
     "data": {
      "text/plain": [
       "100"
      ]
     },
     "execution_count": 37,
     "metadata": {},
     "output_type": "execute_result"
    }
   ],
   "source": [
    "def mul_10(num: int) -> int:\n",
    "    return num * 10\n",
    "\n",
    "var_func = mul_10\n",
    "var_func(10)"
   ]
  },
  {
   "cell_type": "code",
   "execution_count": 40,
   "metadata": {},
   "outputs": [
    {
     "data": {
      "text/plain": [
       "<function __main__.<lambda>(num)>"
      ]
     },
     "execution_count": 40,
     "metadata": {},
     "output_type": "execute_result"
    }
   ],
   "source": [
    "# 람다식 (아주 약간의 메모리 절약도 됨!)\n",
    "lambda_mul_10 = lambda num: num * 10\n",
    "\n",
    "lambda_mul_10"
   ]
  },
  {
   "cell_type": "code",
   "execution_count": 41,
   "metadata": {},
   "outputs": [
    {
     "name": "stdout",
     "output_type": "stream",
     "text": [
      "10000\n"
     ]
    }
   ],
   "source": [
    "# 함수도 매개변수로 받을 수 있음\n",
    "def func_final(x, y, func):\n",
    "    print(x * y * func(10))\n",
    "    \n",
    "func_final(10, 10, lambda_mul_10)"
   ]
  },
  {
   "cell_type": "code",
   "execution_count": 45,
   "metadata": {},
   "outputs": [
    {
     "name": "stdout",
     "output_type": "stream",
     "text": [
      "10000\n"
     ]
    }
   ],
   "source": [
    "func_final(10, 10, lambda x: x * 10)"
   ]
  }
 ],
 "metadata": {
  "kernelspec": {
   "display_name": "Python 3",
   "language": "python",
   "name": "python3"
  },
  "language_info": {
   "codemirror_mode": {
    "name": "ipython",
    "version": 3
   },
   "file_extension": ".py",
   "mimetype": "text/x-python",
   "name": "python",
   "nbconvert_exporter": "python",
   "pygments_lexer": "ipython3",
   "version": "3.7.4"
  }
 },
 "nbformat": 4,
 "nbformat_minor": 4
}
