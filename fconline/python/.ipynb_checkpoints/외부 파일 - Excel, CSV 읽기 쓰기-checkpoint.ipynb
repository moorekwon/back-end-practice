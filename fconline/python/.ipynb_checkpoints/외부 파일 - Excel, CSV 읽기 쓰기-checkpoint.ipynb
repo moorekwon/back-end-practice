{
 "cells": [
  {
   "cell_type": "code",
   "execution_count": 17,
   "metadata": {},
   "outputs": [
    {
     "name": "stdout",
     "output_type": "stream",
     "text": [
      "reader >>  <_csv.reader object at 0x00000191E4642898>\n",
      "type(reader) >>  <class '_csv.reader'>\n",
      "dir(reader) >>  ['__class__', '__delattr__', '__dir__', '__doc__', '__eq__', '__format__', '__ge__', '__getattribute__', '__gt__', '__hash__', '__init__', '__init_subclass__', '__iter__', '__le__', '__lt__', '__ne__', '__new__', '__next__', '__reduce__', '__reduce_ex__', '__repr__', '__setattr__', '__sizeof__', '__str__', '__subclasshook__', 'dialect', 'line_num']\n",
      "c >>  ['1', '김정수', '2017-01-19 11:30:00', '25']\n",
      "c >>  ['2', '박민구', '2017-02-07 10:22:00', '35']\n",
      "c >>  ['3', '정순미', '2017-01-22 09:10:00', '33']\n",
      "c >>  ['4', '김정현', '2017-02-22 14:09:00', '45']\n",
      "c >>  ['5', '홍미진', '2017-04-01 18:00:00', '17']\n",
      "c >>  ['6', '김순철', '2017-05-14 22:33:07', '22']\n",
      "c >>  ['7', '이동철', '2017-03-01 23:44:45', '27']\n",
      "c >>  ['8', '박지숙', '2017-01-11 06:04:18', '30']\n",
      "c >>  ['9', '김은미', '2017-02-08 07:44:33', '51']\n",
      "c >>  ['10', '장혁철', '2017-12-01 13:01:11', '16']\n"
     ]
    }
   ],
   "source": [
    "# CSV: MIME - text/csv\n",
    "import csv\n",
    "\n",
    "with open('./resources/sample1.csv', 'r') as f:\n",
    "    reader = csv.reader(f)\n",
    "    print('reader >> ', reader)\n",
    "    print('type(reader) >> ', type(reader))\n",
    "    print('dir(reader) >> ', dir(reader))\n",
    "\n",
    "    # Header 스킵\n",
    "    next(reader)\n",
    "\n",
    "    for c in reader:\n",
    "        print('c >> ', c)"
   ]
  },
  {
   "cell_type": "code",
   "execution_count": 18,
   "metadata": {},
   "outputs": [
    {
     "name": "stdout",
     "output_type": "stream",
     "text": [
      "c >>  ['1', '김정수', '2017-01-19 11:30:00', '25']\n",
      "c >>  ['2', '박민구', '2017-02-07 10:22:00', '35']\n",
      "c >>  ['3', '정순미', '2017-01-22 09:10:00', '33']\n",
      "c >>  ['4', '김정현', '2017-02-22 14:09:00', '45']\n",
      "c >>  ['5', '홍미진', '2017-04-01 18:00:00', '17']\n",
      "c >>  ['6', '김순철', '2017-05-14 22:33:07', '22']\n",
      "c >>  ['7', '이동철', '2017-03-01 23:44:45', '27']\n",
      "c >>  ['8', '박지숙', '2017-01-11 06:04:18', '30']\n",
      "c >>  ['9', '김은미', '2017-02-08 07:44:33', '51']\n",
      "c >>  ['10', '장혁철', '2017-12-01 13:01:11', '16']\n"
     ]
    }
   ],
   "source": [
    "with open('./resources/sample2.csv', 'r') as f:\n",
    "    reader = csv.reader(f, delimiter='|')\n",
    "    next(reader)\n",
    "\n",
    "    for c in reader:\n",
    "        print('c >> ', c)"
   ]
  },
  {
   "cell_type": "code",
   "execution_count": 22,
   "metadata": {},
   "outputs": [
    {
     "name": "stdout",
     "output_type": "stream",
     "text": [
      "k, v >>  번호 2\n",
      "k, v >>  이름 박민구\n",
      "k, v >>  가입일시 2017-02-07 10:22:00\n",
      "k, v >>  나이 35\n",
      "k, v >>  번호 3\n",
      "k, v >>  이름 정순미\n",
      "k, v >>  가입일시 2017-01-22 09:10:00\n",
      "k, v >>  나이 33\n",
      "k, v >>  번호 4\n",
      "k, v >>  이름 김정현\n",
      "k, v >>  가입일시 2017-02-22 14:09:00\n",
      "k, v >>  나이 45\n",
      "k, v >>  번호 5\n",
      "k, v >>  이름 홍미진\n",
      "k, v >>  가입일시 2017-04-01 18:00:00\n",
      "k, v >>  나이 17\n",
      "k, v >>  번호 6\n",
      "k, v >>  이름 김순철\n",
      "k, v >>  가입일시 2017-05-14 22:33:07\n",
      "k, v >>  나이 22\n",
      "k, v >>  번호 7\n",
      "k, v >>  이름 이동철\n",
      "k, v >>  가입일시 2017-03-01 23:44:45\n",
      "k, v >>  나이 27\n",
      "k, v >>  번호 8\n",
      "k, v >>  이름 박지숙\n",
      "k, v >>  가입일시 2017-01-11 06:04:18\n",
      "k, v >>  나이 30\n",
      "k, v >>  번호 9\n",
      "k, v >>  이름 김은미\n",
      "k, v >>  가입일시 2017-02-08 07:44:33\n",
      "k, v >>  나이 51\n",
      "k, v >>  번호 10\n",
      "k, v >>  이름 장혁철\n",
      "k, v >>  가입일시 2017-12-01 13:01:11\n",
      "k, v >>  나이 16\n"
     ]
    }
   ],
   "source": [
    "with open('./resources/sample1.csv', 'r') as f:\n",
    "    reader = csv.DictReader(f)\n",
    "    next(reader)\n",
    "\n",
    "    for c in reader:\n",
    "        for k, v in c.items():\n",
    "            print('k, v >> ', k, v)"
   ]
  },
  {
   "cell_type": "code",
   "execution_count": 23,
   "metadata": {},
   "outputs": [],
   "source": [
    "w = [[1, 2, 3], [4, 5, 6], [7, 8, 9], [10, 11, 12], [13, 14, 15], [16, 17, 18]]\n",
    "\n",
    "# newline='' -> 줄바꿈 처리 x\n",
    "with open('./resources/sample3.csv', 'w', newline='') as f:\n",
    "    wt = csv.writer(f)\n",
    "    \n",
    "    for v in w:\n",
    "        wt.writerow(v)"
   ]
  }
 ],
 "metadata": {
  "kernelspec": {
   "display_name": "Python 3",
   "language": "python",
   "name": "python3"
  },
  "language_info": {
   "codemirror_mode": {
    "name": "ipython",
    "version": 3
   },
   "file_extension": ".py",
   "mimetype": "text/x-python",
   "name": "python",
   "nbconvert_exporter": "python",
   "pygments_lexer": "ipython3",
   "version": "3.7.4"
  }
 },
 "nbformat": 4,
 "nbformat_minor": 2
}
