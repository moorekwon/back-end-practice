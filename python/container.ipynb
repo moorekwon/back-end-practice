{
 "cells": [
  {
   "cell_type": "markdown",
   "metadata": {},
   "source": [
    "### 리스트(list): 순서가 유지되는(ordered) 데이터\n",
    "### 딕셔너리(dict)\n",
    "#### - 순서가 없는(unordered) 데이터\n",
    "#### - 파이썬에서는 어떤 타입의 값이든 딕셔너리의 키로 사용 가능\n",
    "### 세트(set): 고유한 항목의 집합이며 순서가 없음"
   ]
  },
  {
   "cell_type": "code",
   "execution_count": 4,
   "metadata": {},
   "outputs": [],
   "source": [
    "records = []\n",
    "\n",
    "with open('portfolio.csv', 'rt') as f:\n",
    "    next(f)\n",
    "    for line in f:\n",
    "        row = line.split(',')\n",
    "        records.append((row[0], int(row[1]), float(row[2])))"
   ]
  },
  {
   "cell_type": "code",
   "execution_count": 5,
   "metadata": {},
   "outputs": [
    {
     "data": {
      "text/plain": [
       "[('\"AA\"', 100, 32.2),\n",
       " ('\"IBM\"', 50, 91.1),\n",
       " ('\"CAT\"', 150, 83.44),\n",
       " ('\"MSFT\"', 200, 51.23),\n",
       " ('\"GE\"', 95, 40.37),\n",
       " ('\"MSFT\"', 50, 65.1),\n",
       " ('\"IBM\"', 100, 70.44)]"
      ]
     },
     "execution_count": 5,
     "metadata": {},
     "output_type": "execute_result"
    }
   ],
   "source": [
    "records"
   ]
  },
  {
   "cell_type": "code",
   "execution_count": 12,
   "metadata": {},
   "outputs": [],
   "source": [
    "prices = {}\n",
    "\n",
    "with open('prices.csv', 'rt') as f:\n",
    "    for line in f:\n",
    "        row = line.split(',')\n",
    "        prices[row[0]] = float(row[1])"
   ]
  },
  {
   "cell_type": "code",
   "execution_count": 18,
   "metadata": {},
   "outputs": [
    {
     "data": {
      "text/plain": [
       "{'\"AA\"': 9.22,\n",
       " '\"AXP\"': 24.85,\n",
       " '\"BA\"': 44.85,\n",
       " '\"BAC\"': 11.27,\n",
       " '\"C\"': 3.72,\n",
       " '\"CAT\"': 35.46,\n",
       " '\"CVX\"': 66.67,\n",
       " '\"DD\"': 28.47,\n",
       " '\"DIS\"': 24.22,\n",
       " '\"GE\"': 13.48,\n",
       " '\"GM\"': 0.75,\n",
       " '\"HD\"': 23.16,\n",
       " '\"HPQ\"': 34.35,\n",
       " '\"IBM\"': 106.28,\n",
       " '\"INTC\"': 15.72,\n",
       " '\"JNJ\"': 55.16,\n",
       " '\"JPM\"': 36.9,\n",
       " '\"KFT\"': 26.11,\n",
       " '\"KO\"': 49.16,\n",
       " '\"MCD\"': 58.99,\n",
       " '\"MMM\"': 57.1,\n",
       " '\"MRK\"': 27.58,\n",
       " '\"MSFT\"': 20.89,\n",
       " '\"PFE\"': 15.19,\n",
       " '\"PG\"': 51.94,\n",
       " '\"T\"': 24.79,\n",
       " '\"UTX\"': 52.61,\n",
       " '\"VZ\"': 29.26,\n",
       " '\"WMT\"': 49.74,\n",
       " '\"XOM\"': 69.35}"
      ]
     },
     "execution_count": 18,
     "metadata": {},
     "output_type": "execute_result"
    }
   ],
   "source": [
    "prices"
   ]
  },
  {
   "cell_type": "code",
   "execution_count": 25,
   "metadata": {},
   "outputs": [],
   "source": [
    "name = prices.get('\"IBM\"', 0.0)"
   ]
  },
  {
   "cell_type": "code",
   "execution_count": 26,
   "metadata": {},
   "outputs": [
    {
     "data": {
      "text/plain": [
       "106.28"
      ]
     },
     "execution_count": 26,
     "metadata": {},
     "output_type": "execute_result"
    }
   ],
   "source": [
    "name"
   ]
  },
  {
   "cell_type": "code",
   "execution_count": 1,
   "metadata": {},
   "outputs": [],
   "source": [
    "holidays = {\n",
    "  (1, 1) : 'New Years',\n",
    "  (3, 14) : 'Pi day',\n",
    "  (9, 13) : \"Programmer's day\",\n",
    "}"
   ]
  },
  {
   "cell_type": "code",
   "execution_count": 2,
   "metadata": {},
   "outputs": [
    {
     "data": {
      "text/plain": [
       "'Pi day'"
      ]
     },
     "execution_count": 2,
     "metadata": {},
     "output_type": "execute_result"
    }
   ],
   "source": [
    "holidays[3, 14]"
   ]
  },
  {
   "cell_type": "code",
   "execution_count": 3,
   "metadata": {},
   "outputs": [],
   "source": [
    "names = ['IBM', 'AAPL', 'GOOG', 'IBM', 'GOOG', 'YHOO']\n",
    "\n",
    "unique = set(names)"
   ]
  },
  {
   "cell_type": "code",
   "execution_count": 4,
   "metadata": {},
   "outputs": [
    {
     "data": {
      "text/plain": [
       "{'AAPL', 'GOOG', 'IBM', 'YHOO'}"
      ]
     },
     "execution_count": 4,
     "metadata": {},
     "output_type": "execute_result"
    }
   ],
   "source": [
    "unique"
   ]
  },
  {
   "cell_type": "code",
   "execution_count": 5,
   "metadata": {},
   "outputs": [
    {
     "data": {
      "text/plain": [
       "{'AAPL', 'CAT', 'GOOG', 'IBM'}"
      ]
     },
     "execution_count": 5,
     "metadata": {},
     "output_type": "execute_result"
    }
   ],
   "source": [
    "unique.add('CAT')\n",
    "unique.remove('YHOO')\n",
    "unique"
   ]
  },
  {
   "cell_type": "markdown",
   "metadata": {},
   "source": [
    "#### s1 | s2                 # 합집합\n",
    "#### s1 & s2                 # 교집합\n",
    "#### s1 - s2                 # 차집합"
   ]
  }
 ],
 "metadata": {
  "kernelspec": {
   "display_name": "Python 3",
   "language": "python",
   "name": "python3"
  },
  "language_info": {
   "codemirror_mode": {
    "name": "ipython",
    "version": 3
   },
   "file_extension": ".py",
   "mimetype": "text/x-python",
   "name": "python",
   "nbconvert_exporter": "python",
   "pygments_lexer": "ipython3",
   "version": "3.7.3"
  }
 },
 "nbformat": 4,
 "nbformat_minor": 2
}
