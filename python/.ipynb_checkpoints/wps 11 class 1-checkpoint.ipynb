{
 "cells": [
  {
   "cell_type": "code",
   "execution_count": 7,
   "metadata": {},
   "outputs": [],
   "source": [
    "class Shop:\n",
    "    description = 'Python Shop Class'\n",
    "    \n",
    "    def __init__(self, name, shop_type, address):\n",
    "        self.name = name\n",
    "        self.__shop_type = shop_type\n",
    "        self.address = address\n",
    "        \n",
    "    def show_info(self):\n",
    "        print(f'상점 ({self.name})\\n'\n",
    "              f'  유형: {self.__shop_type}\\n'\n",
    "              f'  주소: {self.address}')\n",
    "        \n",
    "    def change_type(self, shop_type):\n",
    "        self.__shop_type = shop_type"
   ]
  },
  {
   "cell_type": "code",
   "execution_count": 8,
   "metadata": {},
   "outputs": [
    {
     "name": "stdout",
     "output_type": "stream",
     "text": [
      "상점 (롯데리아)\n",
      "  유형: 패스트푸드\n",
      "  주소: 강남구\n"
     ]
    }
   ],
   "source": [
    "lotteria = Shop('롯데리아', '패스트푸드', '강남구')\n",
    "lotteria.show_info()"
   ]
  },
  {
   "cell_type": "code",
   "execution_count": 9,
   "metadata": {},
   "outputs": [
    {
     "name": "stdout",
     "output_type": "stream",
     "text": [
      "상점 (롯데리아)\n",
      "  유형: 레스토랑\n",
      "  주소: 강남구\n"
     ]
    }
   ],
   "source": [
    "lotteria.change_type('레스토랑')\n",
    "lotteria.show_info()"
   ]
  },
  {
   "cell_type": "code",
   "execution_count": 14,
   "metadata": {},
   "outputs": [
    {
     "name": "stdout",
     "output_type": "stream",
     "text": [
      "상점 (롯데리아)\n",
      "  유형: PC방\n",
      "  주소: 강남구\n"
     ]
    }
   ],
   "source": [
    "lotteria.Shop__shop_type = 'PC방'\n",
    "lotteria.show_info()"
   ]
  }
 ],
 "metadata": {
  "kernelspec": {
   "display_name": "Python 3",
   "language": "python",
   "name": "python3"
  },
  "language_info": {
   "codemirror_mode": {
    "name": "ipython",
    "version": 3
   },
   "file_extension": ".py",
   "mimetype": "text/x-python",
   "name": "python",
   "nbconvert_exporter": "python",
   "pygments_lexer": "ipython3",
   "version": "3.7.4"
  }
 },
 "nbformat": 4,
 "nbformat_minor": 2
}
