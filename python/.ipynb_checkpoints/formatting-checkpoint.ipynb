{
 "cells": [
  {
   "cell_type": "code",
   "execution_count": 1,
   "metadata": {},
   "outputs": [],
   "source": [
    "name = 'IBM'\n",
    "shares = 100\n",
    "price = 91.1"
   ]
  },
  {
   "cell_type": "code",
   "execution_count": 2,
   "metadata": {},
   "outputs": [
    {
     "data": {
      "text/plain": [
       "'       IBM        100      91.10'"
      ]
     },
     "execution_count": 2,
     "metadata": {},
     "output_type": "execute_result"
    }
   ],
   "source": [
    "f'{name:>10s} {shares:>10d} {price:>10.2f}'"
   ]
  },
  {
   "cell_type": "markdown",
   "metadata": {},
   "source": [
    "### 포맷 코드\n",
    "#### d       십진 정수\n",
    "#### b       이진 정수\n",
    "#### x       16진 정수\n",
    "#### f       부동소수점수 [-]m.dddddd\n",
    "#### e       부동소수점수 [-]m.dddddde+-xx\n",
    "#### g       E 표기를 선택적으로 사용하는 부동소수점\n",
    "#### s       문자열\n",
    "#### c       문자(정수로부터)"
   ]
  },
  {
   "cell_type": "markdown",
   "metadata": {},
   "source": [
    "#### :>10d   정수를 10자리 필드에 오른쪽 정렬\n",
    "#### :<10d   정수를 10자리 필드에 왼쪽 정렬\n",
    "#### :^10d   정수를 10자리 필드에 가운데 정렬\n",
    "#### :0.2f   부동소수점수를 두 자리 정밀도로 나타냄"
   ]
  },
  {
   "cell_type": "code",
   "execution_count": 3,
   "metadata": {},
   "outputs": [],
   "source": [
    "s = {\n",
    "    'name': 'IBM',\n",
    "    'shares': 100,\n",
    "    'price': 91.1\n",
    "}"
   ]
  },
  {
   "cell_type": "code",
   "execution_count": 5,
   "metadata": {},
   "outputs": [
    {
     "data": {
      "text/plain": [
       "'       IBM        100      91.10'"
      ]
     },
     "execution_count": 5,
     "metadata": {},
     "output_type": "execute_result"
    }
   ],
   "source": [
    "# 값들의 딕셔너리에 문자열 포매팅을 적용\n",
    "'{name:>10s} {shares:10d} {price:10.2f}'.format_map(s)"
   ]
  },
  {
   "cell_type": "code",
   "execution_count": 6,
   "metadata": {},
   "outputs": [
    {
     "data": {
      "text/plain": [
       "'       IBM        100      91.10'"
      ]
     },
     "execution_count": 6,
     "metadata": {},
     "output_type": "execute_result"
    }
   ],
   "source": [
    "'{name:>10s} {shares:10d} {price:10.2f}'.format(name='IBM', shares=100, price=91.1)"
   ]
  },
  {
   "cell_type": "code",
   "execution_count": 7,
   "metadata": {},
   "outputs": [
    {
     "data": {
      "text/plain": [
       "'the value is 3'"
      ]
     },
     "execution_count": 7,
     "metadata": {},
     "output_type": "execute_result"
    }
   ],
   "source": [
    "# C 스타일 포매팅\n",
    "'the value is %d' % 3"
   ]
  },
  {
   "cell_type": "code",
   "execution_count": 8,
   "metadata": {},
   "outputs": [
    {
     "data": {
      "text/plain": [
       "'    3 4              5'"
      ]
     },
     "execution_count": 8,
     "metadata": {},
     "output_type": "execute_result"
    }
   ],
   "source": [
    "'%5d %-5d %10d' % (3, 4, 5)"
   ]
  },
  {
   "cell_type": "code",
   "execution_count": 10,
   "metadata": {},
   "outputs": [
    {
     "data": {
      "text/plain": [
       "'3.14'"
      ]
     },
     "execution_count": 10,
     "metadata": {},
     "output_type": "execute_result"
    }
   ],
   "source": [
    "'%0.2f' % (3.1415926)  # 오른쪽에는 단일 항목 또는 튜플"
   ]
  },
  {
   "cell_type": "code",
   "execution_count": 12,
   "metadata": {},
   "outputs": [],
   "source": [
    "value = 42863.1"
   ]
  },
  {
   "cell_type": "code",
   "execution_count": 13,
   "metadata": {},
   "outputs": [
    {
     "data": {
      "text/plain": [
       "'42863.1000'"
      ]
     },
     "execution_count": 13,
     "metadata": {},
     "output_type": "execute_result"
    }
   ],
   "source": [
    "f'{value:0.4f}'"
   ]
  },
  {
   "cell_type": "code",
   "execution_count": 14,
   "metadata": {},
   "outputs": [
    {
     "data": {
      "text/plain": [
       "'        42863.10'"
      ]
     },
     "execution_count": 14,
     "metadata": {},
     "output_type": "execute_result"
    }
   ],
   "source": [
    "f'{value:>16.2f}'"
   ]
  },
  {
   "cell_type": "code",
   "execution_count": 15,
   "metadata": {},
   "outputs": [
    {
     "data": {
      "text/plain": [
       "'42863.10        '"
      ]
     },
     "execution_count": 15,
     "metadata": {},
     "output_type": "execute_result"
    }
   ],
   "source": [
    "f'{value:<16.2f}'"
   ]
  },
  {
   "cell_type": "code",
   "execution_count": 17,
   "metadata": {},
   "outputs": [
    {
     "data": {
      "text/plain": [
       "'*******42,863.10'"
      ]
     },
     "execution_count": 17,
     "metadata": {},
     "output_type": "execute_result"
    }
   ],
   "source": [
    "f'{value:*>16,.2f}'"
   ]
  },
  {
   "cell_type": "code",
   "execution_count": 18,
   "metadata": {},
   "outputs": [
    {
     "data": {
      "text/plain": [
       "'42863.1000'"
      ]
     },
     "execution_count": 18,
     "metadata": {},
     "output_type": "execute_result"
    }
   ],
   "source": [
    "'%0.4f' % value"
   ]
  },
  {
   "cell_type": "code",
   "execution_count": 19,
   "metadata": {},
   "outputs": [
    {
     "data": {
      "text/plain": [
       "'        42863.10'"
      ]
     },
     "execution_count": 19,
     "metadata": {},
     "output_type": "execute_result"
    }
   ],
   "source": [
    "'%16.2f' % value"
   ]
  },
  {
   "cell_type": "code",
   "execution_count": 21,
   "metadata": {},
   "outputs": [
    {
     "data": {
      "text/plain": [
       "str"
      ]
     },
     "execution_count": 21,
     "metadata": {},
     "output_type": "execute_result"
    }
   ],
   "source": [
    "# 포매팅한 문자열을 저장\n",
    "f = '%0.4f' % value\n",
    "type(f)"
   ]
  },
  {
   "cell_type": "code",
   "execution_count": 41,
   "metadata": {},
   "outputs": [],
   "source": [
    "report = [\n",
    "    ('AA', 100, 9.22, -22.980000000000004),\n",
    "    ('IBM', 50, 106.28, 15.180000000000007),\n",
    "    ('CAT', 150, 35.46, -47.98),\n",
    "    ('MSFT', 200, 20.89, -30.339999999999996),\n",
    "    ('GE', 95, 13.48, -26.889999999999997)\n",
    "]"
   ]
  },
  {
   "cell_type": "code",
   "execution_count": 42,
   "metadata": {},
   "outputs": [
    {
     "name": "stdout",
     "output_type": "stream",
     "text": [
      "        AA        100       9.22     -22.98\n",
      "       IBM         50     106.28      15.18\n",
      "       CAT        150      35.46     -47.98\n",
      "      MSFT        200      20.89     -30.34\n",
      "        GE         95      13.48     -26.89\n"
     ]
    }
   ],
   "source": [
    "for r in report:\n",
    "    print('%10s %10d %10.2f %10.2f' % r)"
   ]
  },
  {
   "cell_type": "code",
   "execution_count": 44,
   "metadata": {},
   "outputs": [
    {
     "name": "stdout",
     "output_type": "stream",
     "text": [
      "        AA        100       9.22     -22.98\n",
      "       IBM         50     106.28      15.18\n",
      "       CAT        150      35.46     -47.98\n",
      "      MSFT        200      20.89     -30.34\n",
      "        GE         95      13.48     -26.89\n"
     ]
    }
   ],
   "source": [
    "for name, shares, price, change in report:\n",
    "    print(f'{name:>10s} {shares:>10d} {price:>10.2f} {change:>10.2f}')"
   ]
  },
  {
   "cell_type": "code",
   "execution_count": 60,
   "metadata": {},
   "outputs": [
    {
     "name": "stdout",
     "output_type": "stream",
     "text": [
      "      Name     Shares      Price     Change\n",
      "---------- ---------- ---------- -----------\n",
      "        AA        100       9.22     -22.98\n",
      "       IBM         50     106.28      15.18\n",
      "       CAT        150      35.46     -47.98\n",
      "      MSFT        200      20.89     -30.34\n",
      "        GE         95      13.48     -26.89\n"
     ]
    }
   ],
   "source": [
    "headers = ('Name', 'Shares', 'Price', 'Change')\n",
    "print(f'{headers[0]:>10s} {headers[1]:>10s} {headers[2]:>10s} {headers[3]:>10s}')\n",
    "print('---------- ---------- ---------- -----------')\n",
    "for name, shares, price, change in report:\n",
    "    print(f'{name:>10s} {shares:>10d} {price:>10.2f} {change:>10.2f}')"
   ]
  }
 ],
 "metadata": {
  "kernelspec": {
   "display_name": "Python 3",
   "language": "python",
   "name": "python3"
  },
  "language_info": {
   "codemirror_mode": {
    "name": "ipython",
    "version": 3
   },
   "file_extension": ".py",
   "mimetype": "text/x-python",
   "name": "python",
   "nbconvert_exporter": "python",
   "pygments_lexer": "ipython3",
   "version": "3.7.3"
  }
 },
 "nbformat": 4,
 "nbformat_minor": 2
}
