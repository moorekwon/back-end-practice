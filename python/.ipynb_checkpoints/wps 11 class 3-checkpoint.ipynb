{
 "cells": [
  {
   "cell_type": "code",
   "execution_count": 36,
   "metadata": {},
   "outputs": [],
   "source": [
    "class Shop:\n",
    "    def __init__(self, name, shop_type, address):\n",
    "        self.name = name\n",
    "        self._shop_type = shop_type\n",
    "        self.address = address\n",
    "        \n",
    "    @property\n",
    "    def shop_type(self):\n",
    "        return self._shop_type\n",
    "    \n",
    "    @shop_type.setter\n",
    "    def shop_type(self, new_type):\n",
    "        if not new_type in ('편의점', '레스토랑'):\n",
    "            raise TypeError('편의점이나 레스토랑만 허용됩니다.')\n",
    "        self._shop_type = new_type\n",
    "        \n",
    "    def get_info(self):\n",
    "        return (f'{self.name}\\n'\n",
    "               f'  유형: {self._shop_type}\\n'\n",
    "               f'  주소: {self.address}')\n",
    "    \n",
    "    def show_info(self):\n",
    "        print(self.get_info())\n",
    "        \n",
    "class Restaurant(Shop):\n",
    "    def __init__(self, name, address, rating):\n",
    "        self.name = name\n",
    "        self._shop_type = '레스토랑'\n",
    "        self.address = address\n",
    "        self.rating = rating\n",
    "        \n",
    "    def get_info(self):\n",
    "        original_info = super().get_info()\n",
    "        original_info += f'\\n  평점: {self.rating}'\n",
    "        return original_info"
   ]
  },
  {
   "cell_type": "code",
   "execution_count": 37,
   "metadata": {},
   "outputs": [
    {
     "name": "stdout",
     "output_type": "stream",
     "text": [
      "CU\n",
      "  유형: 편의점\n",
      "  주소: 성수역\n"
     ]
    }
   ],
   "source": [
    "cu = Shop('CU', '편의점', '성수역')\n",
    "cu.show_info()"
   ]
  },
  {
   "cell_type": "code",
   "execution_count": 38,
   "metadata": {},
   "outputs": [
    {
     "name": "stdout",
     "output_type": "stream",
     "text": [
      "써브웨이\n",
      "  유형: 레스토랑\n",
      "  주소: 성수역\n",
      "  평점: 5\n"
     ]
    }
   ],
   "source": [
    "subway = Restaurant('써브웨이', '성수역', 5)\n",
    "subway.show_info()"
   ]
  },
  {
   "cell_type": "code",
   "execution_count": 39,
   "metadata": {},
   "outputs": [
    {
     "data": {
      "text/plain": [
       "'써브웨이\\n  유형: 레스토랑\\n  주소: 성수역\\n  평점: 5'"
      ]
     },
     "execution_count": 39,
     "metadata": {},
     "output_type": "execute_result"
    }
   ],
   "source": [
    "subway.get_info()"
   ]
  },
  {
   "cell_type": "code",
   "execution_count": 40,
   "metadata": {},
   "outputs": [
    {
     "data": {
      "text/plain": [
       "'CU\\n  유형: 편의점\\n  주소: 성수역'"
      ]
     },
     "execution_count": 40,
     "metadata": {},
     "output_type": "execute_result"
    }
   ],
   "source": [
    "cu.get_info()"
   ]
  },
  {
   "cell_type": "code",
   "execution_count": 72,
   "metadata": {},
   "outputs": [],
   "source": [
    "import random\n",
    "\n",
    "class Pokemon:\n",
    "    def __init__(self, name, type):\n",
    "        self.name = name\n",
    "        self.type = type\n",
    "        \n",
    "    @staticmethod\n",
    "    def electric():\n",
    "        pokemons = ('피카츄', '라이츄', '붐볼')\n",
    "        selected_pokemon = random.choice(pokemons)\n",
    "        return Pokemon(selected_pokemon, '전기')\n",
    "    \n",
    "    def __repr__(self):\n",
    "        return f'{self.name} ({self.type}타입)'\n",
    "    \n",
    "def electric():\n",
    "    pokemons = ('피카츄', '라이츄', '붐볼')\n",
    "    selected_pokemon = random.choice(pokemons)\n",
    "    return Pokemon(selected_pokemon, '전기')"
   ]
  },
  {
   "cell_type": "code",
   "execution_count": 73,
   "metadata": {},
   "outputs": [
    {
     "data": {
      "text/plain": [
       "피카츄 (전기타입)"
      ]
     },
     "execution_count": 73,
     "metadata": {},
     "output_type": "execute_result"
    }
   ],
   "source": [
    "pikachu = Pokemon('피카츄', '전기')\n",
    "pikachu"
   ]
  },
  {
   "cell_type": "code",
   "execution_count": 74,
   "metadata": {},
   "outputs": [
    {
     "data": {
      "text/plain": [
       "'피카츄 (전기타입)'"
      ]
     },
     "execution_count": 74,
     "metadata": {},
     "output_type": "execute_result"
    }
   ],
   "source": [
    "pikachu.__repr__()"
   ]
  },
  {
   "cell_type": "code",
   "execution_count": 75,
   "metadata": {},
   "outputs": [
    {
     "data": {
      "text/plain": [
       "피카츄 (전기타입)"
      ]
     },
     "execution_count": 75,
     "metadata": {},
     "output_type": "execute_result"
    }
   ],
   "source": [
    "electric()"
   ]
  }
 ],
 "metadata": {
  "kernelspec": {
   "display_name": "Python 3",
   "language": "python",
   "name": "python3"
  },
  "language_info": {
   "codemirror_mode": {
    "name": "ipython",
    "version": 3
   },
   "file_extension": ".py",
   "mimetype": "text/x-python",
   "name": "python",
   "nbconvert_exporter": "python",
   "pygments_lexer": "ipython3",
   "version": "3.7.4"
  }
 },
 "nbformat": 4,
 "nbformat_minor": 2
}
