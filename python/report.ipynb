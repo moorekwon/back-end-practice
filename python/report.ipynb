{
 "cells": [
  {
   "cell_type": "code",
   "execution_count": 3,
   "metadata": {},
   "outputs": [],
   "source": [
    "import csv\n",
    "\n",
    "# 튜플의 리스트\n",
    "def read_portfolio_lot(filename):\n",
    "    portfolio = []\n",
    "    \n",
    "    with open(filename, 'rt') as f:\n",
    "        rows = csv.reader(f)\n",
    "        headers = next(rows)\n",
    "        for row in rows:\n",
    "            holding = (str(row[0]), int(row[1]), float(row[2]))\n",
    "            portfolio.append(holding)\n",
    "    return portfolio"
   ]
  },
  {
   "cell_type": "code",
   "execution_count": 30,
   "metadata": {},
   "outputs": [],
   "source": [
    "portfolio = read_portfolio_lot('portfolio.csv')"
   ]
  },
  {
   "cell_type": "code",
   "execution_count": 31,
   "metadata": {},
   "outputs": [
    {
     "data": {
      "text/plain": [
       "[('AA', 100, 32.2),\n",
       " ('IBM', 50, 91.1),\n",
       " ('CAT', 150, 83.44),\n",
       " ('MSFT', 200, 51.23),\n",
       " ('GE', 95, 40.37),\n",
       " ('MSFT', 50, 65.1),\n",
       " ('IBM', 100, 70.44)]"
      ]
     },
     "execution_count": 31,
     "metadata": {},
     "output_type": "execute_result"
    }
   ],
   "source": [
    "portfolio"
   ]
  },
  {
   "cell_type": "code",
   "execution_count": 32,
   "metadata": {},
   "outputs": [
    {
     "data": {
      "text/plain": [
       "44671.15"
      ]
     },
     "execution_count": 32,
     "metadata": {},
     "output_type": "execute_result"
    }
   ],
   "source": [
    "total = 0.0\n",
    "\n",
    "for s in portfolio:\n",
    "    total += s[1] * s[2]\n",
    "    \n",
    "total"
   ]
  },
  {
   "cell_type": "code",
   "execution_count": 33,
   "metadata": {},
   "outputs": [
    {
     "data": {
      "text/plain": [
       "44671.15"
      ]
     },
     "execution_count": 33,
     "metadata": {},
     "output_type": "execute_result"
    }
   ],
   "source": [
    "total = 0.0\n",
    "\n",
    "for name, shares, price in portfolio:\n",
    "    total += shares * price\n",
    "    \n",
    "total"
   ]
  },
  {
   "cell_type": "code",
   "execution_count": 46,
   "metadata": {},
   "outputs": [],
   "source": [
    "# 딕셔너리의 리스트\n",
    "def read_portfolio_lod(filename):\n",
    "    portfolio = []\n",
    "    \n",
    "    with open(filename, 'rt') as f:\n",
    "        rows = csv.reader(f)\n",
    "        headers = next(rows)\n",
    "        for row in rows:\n",
    "            holding = {}\n",
    "            holding[headers[0]], holding[headers[1]], holding[headers[2]] = str(row[0]), int(row[1]), float(row[2])\n",
    "            portfolio.append(holding)\n",
    "    return portfolio"
   ]
  },
  {
   "cell_type": "code",
   "execution_count": 47,
   "metadata": {},
   "outputs": [
    {
     "data": {
      "text/plain": [
       "[{'name': 'AA', 'shares': 100, 'price': 32.2},\n",
       " {'name': 'IBM', 'shares': 50, 'price': 91.1},\n",
       " {'name': 'CAT', 'shares': 150, 'price': 83.44},\n",
       " {'name': 'MSFT', 'shares': 200, 'price': 51.23},\n",
       " {'name': 'GE', 'shares': 95, 'price': 40.37},\n",
       " {'name': 'MSFT', 'shares': 50, 'price': 65.1},\n",
       " {'name': 'IBM', 'shares': 100, 'price': 70.44}]"
      ]
     },
     "execution_count": 47,
     "metadata": {},
     "output_type": "execute_result"
    }
   ],
   "source": [
    "portfolio = read_portfolio_lod('portfolio.csv')\n",
    "portfolio"
   ]
  },
  {
   "cell_type": "code",
   "execution_count": 48,
   "metadata": {},
   "outputs": [
    {
     "data": {
      "text/plain": [
       "{'name': 'AA', 'shares': 100, 'price': 32.2}"
      ]
     },
     "execution_count": 48,
     "metadata": {},
     "output_type": "execute_result"
    }
   ],
   "source": [
    "portfolio[0]"
   ]
  },
  {
   "cell_type": "code",
   "execution_count": 49,
   "metadata": {},
   "outputs": [
    {
     "data": {
      "text/plain": [
       "44671.15"
      ]
     },
     "execution_count": 49,
     "metadata": {},
     "output_type": "execute_result"
    }
   ],
   "source": [
    "total = 0.0\n",
    "\n",
    "for s in portfolio:\n",
    "    total += s['shares'] * s['price']\n",
    "    \n",
    "total"
   ]
  },
  {
   "cell_type": "code",
   "execution_count": 51,
   "metadata": {},
   "outputs": [],
   "source": [
    "from pprint import pprint"
   ]
  },
  {
   "cell_type": "code",
   "execution_count": 53,
   "metadata": {},
   "outputs": [
    {
     "name": "stdout",
     "output_type": "stream",
     "text": [
      "[{'name': 'AA', 'price': 32.2, 'shares': 100},\n",
      " {'name': 'IBM', 'price': 91.1, 'shares': 50},\n",
      " {'name': 'CAT', 'price': 83.44, 'shares': 150},\n",
      " {'name': 'MSFT', 'price': 51.23, 'shares': 200},\n",
      " {'name': 'GE', 'price': 40.37, 'shares': 95},\n",
      " {'name': 'MSFT', 'price': 65.1, 'shares': 50},\n",
      " {'name': 'IBM', 'price': 70.44, 'shares': 100}]\n"
     ]
    }
   ],
   "source": [
    "# 큰 딕셔너리와 리스트를 조회하는 것은 지저분해질 수 있음\n",
    "# 디버깅을 위해 출력을 정돈\n",
    "pprint(portfolio)"
   ]
  },
  {
   "cell_type": "code",
   "execution_count": 54,
   "metadata": {},
   "outputs": [],
   "source": [
    "prices = {}\n",
    "\n",
    "prices['IBM'] = 82.45\n",
    "prices['MSFT'] = 45.12"
   ]
  },
  {
   "cell_type": "code",
   "execution_count": 55,
   "metadata": {},
   "outputs": [
    {
     "data": {
      "text/plain": [
       "{'IBM': 82.45, 'MSFT': 45.12}"
      ]
     },
     "execution_count": 55,
     "metadata": {},
     "output_type": "execute_result"
    }
   ],
   "source": [
    "prices"
   ]
  },
  {
   "cell_type": "code",
   "execution_count": 56,
   "metadata": {},
   "outputs": [
    {
     "data": {
      "text/plain": [
       "False"
      ]
     },
     "execution_count": 56,
     "metadata": {},
     "output_type": "execute_result"
    }
   ],
   "source": [
    "'AAPL' in prices"
   ]
  },
  {
   "cell_type": "code",
   "execution_count": 6,
   "metadata": {},
   "outputs": [],
   "source": [
    "# 컨테이너로서의 딕셔너리\n",
    "def read_prices_dac(filename):\n",
    "    portfolio = {}\n",
    "    \n",
    "    with open(filename, 'rt') as f:\n",
    "        rows = csv.reader(f)\n",
    "        for row in rows:\n",
    "            portfolio[row[0]] = float(row[1])\n",
    "    return portfolio"
   ]
  },
  {
   "cell_type": "code",
   "execution_count": 63,
   "metadata": {},
   "outputs": [
    {
     "data": {
      "text/plain": [
       "{'AA': 9.22,\n",
       " 'AXP': 24.85,\n",
       " 'BA': 44.85,\n",
       " 'BAC': 11.27,\n",
       " 'C': 3.72,\n",
       " 'CAT': 35.46,\n",
       " 'CVX': 66.67,\n",
       " 'DD': 28.47,\n",
       " 'DIS': 24.22,\n",
       " 'GE': 13.48,\n",
       " 'GM': 0.75,\n",
       " 'HD': 23.16,\n",
       " 'HPQ': 34.35,\n",
       " 'IBM': 106.28,\n",
       " 'INTC': 15.72,\n",
       " 'JNJ': 55.16,\n",
       " 'JPM': 36.9,\n",
       " 'KFT': 26.11,\n",
       " 'KO': 49.16,\n",
       " 'MCD': 58.99,\n",
       " 'MMM': 57.1,\n",
       " 'MRK': 27.58,\n",
       " 'MSFT': 20.89,\n",
       " 'PFE': 15.19,\n",
       " 'PG': 51.94,\n",
       " 'T': 24.79,\n",
       " 'UTX': 52.61,\n",
       " 'VZ': 29.26,\n",
       " 'WMT': 49.74,\n",
       " 'XOM': 69.35}"
      ]
     },
     "execution_count": 63,
     "metadata": {},
     "output_type": "execute_result"
    }
   ],
   "source": [
    "prices = read_prices_dac('prices.csv')\n",
    "prices"
   ]
  },
  {
   "cell_type": "code",
   "execution_count": 64,
   "metadata": {},
   "outputs": [
    {
     "data": {
      "text/plain": [
       "106.28"
      ]
     },
     "execution_count": 64,
     "metadata": {},
     "output_type": "execute_result"
    }
   ],
   "source": [
    "prices['IBM']"
   ]
  }
 ],
 "metadata": {
  "kernelspec": {
   "display_name": "Python 3",
   "language": "python",
   "name": "python3"
  },
  "language_info": {
   "codemirror_mode": {
    "name": "ipython",
    "version": 3
   },
   "file_extension": ".py",
   "mimetype": "text/x-python",
   "name": "python",
   "nbconvert_exporter": "python",
   "pygments_lexer": "ipython3",
   "version": "3.8.5"
  }
 },
 "nbformat": 4,
 "nbformat_minor": 2
}
