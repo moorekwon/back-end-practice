{
 "cells": [
  {
   "cell_type": "code",
   "execution_count": 1,
   "metadata": {},
   "outputs": [
    {
     "data": {
      "text/plain": [
       "13"
      ]
     },
     "execution_count": 1,
     "metadata": {},
     "output_type": "execute_result"
    }
   ],
   "source": [
    "iu = '아이유는 아이가 아니에유'\n",
    "len(iu)"
   ]
  },
  {
   "cell_type": "code",
   "execution_count": 2,
   "metadata": {},
   "outputs": [
    {
     "data": {
      "text/plain": [
       "13"
      ]
     },
     "execution_count": 2,
     "metadata": {},
     "output_type": "execute_result"
    }
   ],
   "source": [
    "f = open('iu.txt', 'wt')\n",
    "f.write(iu)"
   ]
  },
  {
   "cell_type": "code",
   "execution_count": 3,
   "metadata": {},
   "outputs": [],
   "source": [
    "f.close()"
   ]
  },
  {
   "cell_type": "code",
   "execution_count": 5,
   "metadata": {},
   "outputs": [],
   "source": [
    "f = open('iu.txt', 'at')\n",
    "f.write('hi')\n",
    "f.close()"
   ]
  },
  {
   "cell_type": "code",
   "execution_count": 9,
   "metadata": {},
   "outputs": [],
   "source": [
    "f = open('iu.txt', 'wt')\n",
    "\n",
    "for i in range(100):\n",
    "    f.write(f'{iu}{i}\\n')\n",
    "    \n",
    "f.close()"
   ]
  },
  {
   "cell_type": "code",
   "execution_count": 10,
   "metadata": {},
   "outputs": [
    {
     "data": {
      "text/plain": [
       "'아이유는 아이가 아니에유0\\n아이유는 아이가 아니에유1\\n아이유는 아이가 아니에유2\\n아이유는 아이가 아니에유3\\n아이유는 아이가 아니에유4\\n아이유는 아이가 아니에유5\\n아이유는 아이가 아니에유6\\n아이유는 아이가 아니에유7\\n아이유는 아이가 아니에유8\\n아이유는 아이가 아니에유9\\n아이유는 아이가 아니에유10\\n아이유는 아이가 아니에유11\\n아이유는 아이가 아니에유12\\n아이유는 아이가 아니에유13\\n아이유는 아이가 아니에유14\\n아이유는 아이가 아니에유15\\n아이유는 아이가 아니에유16\\n아이유는 아이가 아니에유17\\n아이유는 아이가 아니에유18\\n아이유는 아이가 아니에유19\\n아이유는 아이가 아니에유20\\n아이유는 아이가 아니에유21\\n아이유는 아이가 아니에유22\\n아이유는 아이가 아니에유23\\n아이유는 아이가 아니에유24\\n아이유는 아이가 아니에유25\\n아이유는 아이가 아니에유26\\n아이유는 아이가 아니에유27\\n아이유는 아이가 아니에유28\\n아이유는 아이가 아니에유29\\n아이유는 아이가 아니에유30\\n아이유는 아이가 아니에유31\\n아이유는 아이가 아니에유32\\n아이유는 아이가 아니에유33\\n아이유는 아이가 아니에유34\\n아이유는 아이가 아니에유35\\n아이유는 아이가 아니에유36\\n아이유는 아이가 아니에유37\\n아이유는 아이가 아니에유38\\n아이유는 아이가 아니에유39\\n아이유는 아이가 아니에유40\\n아이유는 아이가 아니에유41\\n아이유는 아이가 아니에유42\\n아이유는 아이가 아니에유43\\n아이유는 아이가 아니에유44\\n아이유는 아이가 아니에유45\\n아이유는 아이가 아니에유46\\n아이유는 아이가 아니에유47\\n아이유는 아이가 아니에유48\\n아이유는 아이가 아니에유49\\n아이유는 아이가 아니에유50\\n아이유는 아이가 아니에유51\\n아이유는 아이가 아니에유52\\n아이유는 아이가 아니에유53\\n아이유는 아이가 아니에유54\\n아이유는 아이가 아니에유55\\n아이유는 아이가 아니에유56\\n아이유는 아이가 아니에유57\\n아이유는 아이가 아니에유58\\n아이유는 아이가 아니에유59\\n아이유는 아이가 아니에유60\\n아이유는 아이가 아니에유61\\n아이유는 아이가 아니에유62\\n아이유는 아이가 아니에유63\\n아이유는 아이가 아니에유64\\n아이유는 아이가 아니에유65\\n아이유는 아이가 아니에유66\\n아이유는 아이가 아니에유67\\n아이유는 아이가 아니에유68\\n아이유는 아이가 아니에유69\\n아이유는 아이가 아니에유70\\n아이유는 아이가 아니에유71\\n아이유는 아이가 아니에유72\\n아이유는 아이가 아니에유73\\n아이유는 아이가 아니에유74\\n아이유는 아이가 아니에유75\\n아이유는 아이가 아니에유76\\n아이유는 아이가 아니에유77\\n아이유는 아이가 아니에유78\\n아이유는 아이가 아니에유79\\n아이유는 아이가 아니에유80\\n아이유는 아이가 아니에유81\\n아이유는 아이가 아니에유82\\n아이유는 아이가 아니에유83\\n아이유는 아이가 아니에유84\\n아이유는 아이가 아니에유85\\n아이유는 아이가 아니에유86\\n아이유는 아이가 아니에유87\\n아이유는 아이가 아니에유88\\n아이유는 아이가 아니에유89\\n아이유는 아이가 아니에유90\\n아이유는 아이가 아니에유91\\n아이유는 아이가 아니에유92\\n아이유는 아이가 아니에유93\\n아이유는 아이가 아니에유94\\n아이유는 아이가 아니에유95\\n아이유는 아이가 아니에유96\\n아이유는 아이가 아니에유97\\n아이유는 아이가 아니에유98\\n아이유는 아이가 아니에유99\\n'"
      ]
     },
     "execution_count": 10,
     "metadata": {},
     "output_type": "execute_result"
    }
   ],
   "source": [
    "f = open('iu.txt', 'rt')\n",
    "content = f.read()\n",
    "content"
   ]
  },
  {
   "cell_type": "code",
   "execution_count": 11,
   "metadata": {},
   "outputs": [],
   "source": [
    "f = open('iu2.txt', 'wt')\n",
    "f.write(content)\n",
    "f.close()"
   ]
  },
  {
   "cell_type": "code",
   "execution_count": 22,
   "metadata": {},
   "outputs": [],
   "source": [
    "f1 = open('iu.txt', 'rt')\n",
    "f2 = open('iu2.txt', 'wt')\n",
    "\n",
    "for line in f1:\n",
    "    f2.write(line)\n",
    "    \n",
    "# while True:\n",
    "#     line = f1.readline()\n",
    "#     f2.write(line)\n",
    "#     if not line:\n",
    "#         break\n",
    "        \n",
    "f1.close()\n",
    "f2.close()"
   ]
  },
  {
   "cell_type": "code",
   "execution_count": 23,
   "metadata": {},
   "outputs": [],
   "source": [
    "def read(path):\n",
    "    f = open(path, 'rt')\n",
    "    content = f.read()\n",
    "    print(content)"
   ]
  },
  {
   "cell_type": "code",
   "execution_count": 24,
   "metadata": {},
   "outputs": [
    {
     "name": "stdout",
     "output_type": "stream",
     "text": [
      "아이유는 아이가 아니에유0\n",
      "아이유는 아이가 아니에유1\n",
      "아이유는 아이가 아니에유2\n",
      "아이유는 아이가 아니에유3\n",
      "아이유는 아이가 아니에유4\n",
      "아이유는 아이가 아니에유5\n",
      "아이유는 아이가 아니에유6\n",
      "아이유는 아이가 아니에유7\n",
      "아이유는 아이가 아니에유8\n",
      "아이유는 아이가 아니에유9\n",
      "아이유는 아이가 아니에유10\n",
      "아이유는 아이가 아니에유11\n",
      "아이유는 아이가 아니에유12\n",
      "아이유는 아이가 아니에유13\n",
      "아이유는 아이가 아니에유14\n",
      "아이유는 아이가 아니에유15\n",
      "아이유는 아이가 아니에유16\n",
      "아이유는 아이가 아니에유17\n",
      "아이유는 아이가 아니에유18\n",
      "아이유는 아이가 아니에유19\n",
      "아이유는 아이가 아니에유20\n",
      "아이유는 아이가 아니에유21\n",
      "아이유는 아이가 아니에유22\n",
      "아이유는 아이가 아니에유23\n",
      "아이유는 아이가 아니에유24\n",
      "아이유는 아이가 아니에유25\n",
      "아이유는 아이가 아니에유26\n",
      "아이유는 아이가 아니에유27\n",
      "아이유는 아이가 아니에유28\n",
      "아이유는 아이가 아니에유29\n",
      "아이유는 아이가 아니에유30\n",
      "아이유는 아이가 아니에유31\n",
      "아이유는 아이가 아니에유32\n",
      "아이유는 아이가 아니에유33\n",
      "아이유는 아이가 아니에유34\n",
      "아이유는 아이가 아니에유35\n",
      "아이유는 아이가 아니에유36\n",
      "아이유는 아이가 아니에유37\n",
      "아이유는 아이가 아니에유38\n",
      "아이유는 아이가 아니에유39\n",
      "아이유는 아이가 아니에유40\n",
      "아이유는 아이가 아니에유41\n",
      "아이유는 아이가 아니에유42\n",
      "아이유는 아이가 아니에유43\n",
      "아이유는 아이가 아니에유44\n",
      "아이유는 아이가 아니에유45\n",
      "아이유는 아이가 아니에유46\n",
      "아이유는 아이가 아니에유47\n",
      "아이유는 아이가 아니에유48\n",
      "아이유는 아이가 아니에유49\n",
      "아이유는 아이가 아니에유50\n",
      "아이유는 아이가 아니에유51\n",
      "아이유는 아이가 아니에유52\n",
      "아이유는 아이가 아니에유53\n",
      "아이유는 아이가 아니에유54\n",
      "아이유는 아이가 아니에유55\n",
      "아이유는 아이가 아니에유56\n",
      "아이유는 아이가 아니에유57\n",
      "아이유는 아이가 아니에유58\n",
      "아이유는 아이가 아니에유59\n",
      "아이유는 아이가 아니에유60\n",
      "아이유는 아이가 아니에유61\n",
      "아이유는 아이가 아니에유62\n",
      "아이유는 아이가 아니에유63\n",
      "아이유는 아이가 아니에유64\n",
      "아이유는 아이가 아니에유65\n",
      "아이유는 아이가 아니에유66\n",
      "아이유는 아이가 아니에유67\n",
      "아이유는 아이가 아니에유68\n",
      "아이유는 아이가 아니에유69\n",
      "아이유는 아이가 아니에유70\n",
      "아이유는 아이가 아니에유71\n",
      "아이유는 아이가 아니에유72\n",
      "아이유는 아이가 아니에유73\n",
      "아이유는 아이가 아니에유74\n",
      "아이유는 아이가 아니에유75\n",
      "아이유는 아이가 아니에유76\n",
      "아이유는 아이가 아니에유77\n",
      "아이유는 아이가 아니에유78\n",
      "아이유는 아이가 아니에유79\n",
      "아이유는 아이가 아니에유80\n",
      "아이유는 아이가 아니에유81\n",
      "아이유는 아이가 아니에유82\n",
      "아이유는 아이가 아니에유83\n",
      "아이유는 아이가 아니에유84\n",
      "아이유는 아이가 아니에유85\n",
      "아이유는 아이가 아니에유86\n",
      "아이유는 아이가 아니에유87\n",
      "아이유는 아이가 아니에유88\n",
      "아이유는 아이가 아니에유89\n",
      "아이유는 아이가 아니에유90\n",
      "아이유는 아이가 아니에유91\n",
      "아이유는 아이가 아니에유92\n",
      "아이유는 아이가 아니에유93\n",
      "아이유는 아이가 아니에유94\n",
      "아이유는 아이가 아니에유95\n",
      "아이유는 아이가 아니에유96\n",
      "아이유는 아이가 아니에유97\n",
      "아이유는 아이가 아니에유98\n",
      "아이유는 아이가 아니에유99\n",
      "\n"
     ]
    }
   ],
   "source": [
    "read('iu.txt')"
   ]
  },
  {
   "cell_type": "code",
   "execution_count": 26,
   "metadata": {},
   "outputs": [
    {
     "name": "stdout",
     "output_type": "stream",
     "text": [
      "아이유는 아이가 아니에유0\n",
      "아이유는 아이가 아니에유1\n",
      "아이유는 아이가 아니에유2\n",
      "아이유는 아이가 아니에유3\n",
      "아이유는 아이가 아니에유4\n",
      "아이유는 아이가 아니에유5\n",
      "아이유는 아이가 아니에유6\n",
      "아이유는 아이가 아니에유7\n",
      "아이유는 아이가 아니에유8\n",
      "아이유는 아이가 아니에유9\n",
      "아이유는 아이가 아니에유10\n",
      "아이유는 아이가 아니에유11\n",
      "아이유는 아이가 아니에유12\n",
      "아이유는 아이가 아니에유13\n",
      "아이유는 아이가 아니에유14\n",
      "아이유는 아이가 아니에유15\n",
      "아이유는 아이가 아니에유16\n",
      "아이유는 아이가 아니에유17\n",
      "아이유는 아이가 아니에유18\n",
      "아이유는 아이가 아니에유19\n",
      "아이유는 아이가 아니에유20\n",
      "아이유는 아이가 아니에유21\n",
      "아이유는 아이가 아니에유22\n",
      "아이유는 아이가 아니에유23\n",
      "아이유는 아이가 아니에유24\n",
      "아이유는 아이가 아니에유25\n",
      "아이유는 아이가 아니에유26\n",
      "아이유는 아이가 아니에유27\n",
      "아이유는 아이가 아니에유28\n",
      "아이유는 아이가 아니에유29\n",
      "아이유는 아이가 아니에유30\n",
      "아이유는 아이가 아니에유31\n",
      "아이유는 아이가 아니에유32\n",
      "아이유는 아이가 아니에유33\n",
      "아이유는 아이가 아니에유34\n",
      "아이유는 아이가 아니에유35\n",
      "아이유는 아이가 아니에유36\n",
      "아이유는 아이가 아니에유37\n",
      "아이유는 아이가 아니에유38\n",
      "아이유는 아이가 아니에유39\n",
      "아이유는 아이가 아니에유40\n",
      "아이유는 아이가 아니에유41\n",
      "아이유는 아이가 아니에유42\n",
      "아이유는 아이가 아니에유43\n",
      "아이유는 아이가 아니에유44\n",
      "아이유는 아이가 아니에유45\n",
      "아이유는 아이가 아니에유46\n",
      "아이유는 아이가 아니에유47\n",
      "아이유는 아이가 아니에유48\n",
      "아이유는 아이가 아니에유49\n",
      "아이유는 아이가 아니에유50\n",
      "아이유는 아이가 아니에유51\n",
      "아이유는 아이가 아니에유52\n",
      "아이유는 아이가 아니에유53\n",
      "아이유는 아이가 아니에유54\n",
      "아이유는 아이가 아니에유55\n",
      "아이유는 아이가 아니에유56\n",
      "아이유는 아이가 아니에유57\n",
      "아이유는 아이가 아니에유58\n",
      "아이유는 아이가 아니에유59\n",
      "아이유는 아이가 아니에유60\n",
      "아이유는 아이가 아니에유61\n",
      "아이유는 아이가 아니에유62\n",
      "아이유는 아이가 아니에유63\n",
      "아이유는 아이가 아니에유64\n",
      "아이유는 아이가 아니에유65\n",
      "아이유는 아이가 아니에유66\n",
      "아이유는 아이가 아니에유67\n",
      "아이유는 아이가 아니에유68\n",
      "아이유는 아이가 아니에유69\n",
      "아이유는 아이가 아니에유70\n",
      "아이유는 아이가 아니에유71\n",
      "아이유는 아이가 아니에유72\n",
      "아이유는 아이가 아니에유73\n",
      "아이유는 아이가 아니에유74\n",
      "아이유는 아이가 아니에유75\n",
      "아이유는 아이가 아니에유76\n",
      "아이유는 아이가 아니에유77\n",
      "아이유는 아이가 아니에유78\n",
      "아이유는 아이가 아니에유79\n",
      "아이유는 아이가 아니에유80\n",
      "아이유는 아이가 아니에유81\n",
      "아이유는 아이가 아니에유82\n",
      "아이유는 아이가 아니에유83\n",
      "아이유는 아이가 아니에유84\n",
      "아이유는 아이가 아니에유85\n",
      "아이유는 아이가 아니에유86\n",
      "아이유는 아이가 아니에유87\n",
      "아이유는 아이가 아니에유88\n",
      "아이유는 아이가 아니에유89\n",
      "아이유는 아이가 아니에유90\n",
      "아이유는 아이가 아니에유91\n",
      "아이유는 아이가 아니에유92\n",
      "아이유는 아이가 아니에유93\n",
      "아이유는 아이가 아니에유94\n",
      "아이유는 아이가 아니에유95\n",
      "아이유는 아이가 아니에유96\n",
      "아이유는 아이가 아니에유97\n",
      "아이유는 아이가 아니에유98\n",
      "아이유는 아이가 아니에유99\n",
      "\n"
     ]
    }
   ],
   "source": [
    "with open('iu.txt', 'rt') as f:\n",
    "    content = f.read()\n",
    "    print(content)"
   ]
  },
  {
   "cell_type": "code",
   "execution_count": 27,
   "metadata": {},
   "outputs": [
    {
     "data": {
      "text/plain": [
       "b'\\xec\\x95\\x84\\xec\\x9d\\xb4\\xec\\x9c\\xa0\\xeb\\x8a\\x94 \\xec\\x95\\x84\\xec\\x9d\\xb4\\xea\\xb0\\x80 \\xec\\x95\\x84\\xeb\\x8b\\x88\\xec\\x97\\x90\\xec\\x9c\\xa00\\n\\xec\\x95\\x84\\xec\\x9d\\xb4\\xec\\x9c\\xa0\\xeb\\x8a\\x94 \\xec\\x95\\x84\\xec\\x9d\\xb4\\xea\\xb0\\x80 \\xec\\x95\\x84\\xeb\\x8b\\x88\\xec\\x97\\x90\\xec\\x9c\\xa01\\n\\xec\\x95\\x84\\xec\\x9d\\xb4\\xec\\x9c\\xa0\\xeb\\x8a\\x94 \\xec\\x95\\x84\\xec\\x9d\\xb4\\xea\\xb0\\x80 \\xec\\x95\\x84\\xeb\\x8b\\x88\\xec\\x97\\x90\\xec\\x9c\\xa02\\n\\xec\\x95\\x84\\xec\\x9d\\xb4\\xec\\x9c\\xa0\\xeb\\x8a\\x94 \\xec\\x95\\x84\\xec\\x9d\\xb4\\xea\\xb0\\x80 \\xec\\x95\\x84\\xeb\\x8b\\x88\\xec\\x97\\x90\\xec\\x9c\\xa03\\n\\xec\\x95\\x84\\xec\\x9d\\xb4\\xec\\x9c\\xa0\\xeb\\x8a\\x94 \\xec\\x95\\x84\\xec\\x9d\\xb4\\xea\\xb0\\x80 \\xec\\x95\\x84\\xeb\\x8b\\x88\\xec\\x97\\x90\\xec\\x9c\\xa04\\n\\xec\\x95\\x84\\xec\\x9d\\xb4\\xec\\x9c\\xa0\\xeb\\x8a\\x94 \\xec\\x95\\x84\\xec\\x9d\\xb4\\xea\\xb0\\x80 \\xec\\x95\\x84\\xeb\\x8b\\x88\\xec\\x97\\x90\\xec\\x9c\\xa05\\n\\xec\\x95\\x84\\xec\\x9d\\xb4\\xec\\x9c\\xa0\\xeb\\x8a\\x94 \\xec\\x95\\x84\\xec\\x9d\\xb4\\xea\\xb0\\x80 \\xec\\x95\\x84\\xeb\\x8b\\x88\\xec\\x97\\x90\\xec\\x9c\\xa06\\n\\xec\\x95\\x84\\xec\\x9d\\xb4\\xec\\x9c\\xa0\\xeb\\x8a\\x94 \\xec\\x95\\x84\\xec\\x9d\\xb4\\xea\\xb0\\x80 \\xec\\x95\\x84\\xeb\\x8b\\x88\\xec\\x97\\x90\\xec\\x9c\\xa07\\n\\xec\\x95\\x84\\xec\\x9d\\xb4\\xec\\x9c\\xa0\\xeb\\x8a\\x94 \\xec\\x95\\x84\\xec\\x9d\\xb4\\xea\\xb0\\x80 \\xec\\x95\\x84\\xeb\\x8b\\x88\\xec\\x97\\x90\\xec\\x9c\\xa08\\n\\xec\\x95\\x84\\xec\\x9d\\xb4\\xec\\x9c\\xa0\\xeb\\x8a\\x94 \\xec\\x95\\x84\\xec\\x9d\\xb4\\xea\\xb0\\x80 \\xec\\x95\\x84\\xeb\\x8b\\x88\\xec\\x97\\x90\\xec\\x9c\\xa09\\n\\xec\\x95\\x84\\xec\\x9d\\xb4\\xec\\x9c\\xa0\\xeb\\x8a\\x94 \\xec\\x95\\x84\\xec\\x9d\\xb4\\xea\\xb0\\x80 \\xec\\x95\\x84\\xeb\\x8b\\x88\\xec\\x97\\x90\\xec\\x9c\\xa010\\n\\xec\\x95\\x84\\xec\\x9d\\xb4\\xec\\x9c\\xa0\\xeb\\x8a\\x94 \\xec\\x95\\x84\\xec\\x9d\\xb4\\xea\\xb0\\x80 \\xec\\x95\\x84\\xeb\\x8b\\x88\\xec\\x97\\x90\\xec\\x9c\\xa011\\n\\xec\\x95\\x84\\xec\\x9d\\xb4\\xec\\x9c\\xa0\\xeb\\x8a\\x94 \\xec\\x95\\x84\\xec\\x9d\\xb4\\xea\\xb0\\x80 \\xec\\x95\\x84\\xeb\\x8b\\x88\\xec\\x97\\x90\\xec\\x9c\\xa012\\n\\xec\\x95\\x84\\xec\\x9d\\xb4\\xec\\x9c\\xa0\\xeb\\x8a\\x94 \\xec\\x95\\x84\\xec\\x9d\\xb4\\xea\\xb0\\x80 \\xec\\x95\\x84\\xeb\\x8b\\x88\\xec\\x97\\x90\\xec\\x9c\\xa013\\n\\xec\\x95\\x84\\xec\\x9d\\xb4\\xec\\x9c\\xa0\\xeb\\x8a\\x94 \\xec\\x95\\x84\\xec\\x9d\\xb4\\xea\\xb0\\x80 \\xec\\x95\\x84\\xeb\\x8b\\x88\\xec\\x97\\x90\\xec\\x9c\\xa014\\n\\xec\\x95\\x84\\xec\\x9d\\xb4\\xec\\x9c\\xa0\\xeb\\x8a\\x94 \\xec\\x95\\x84\\xec\\x9d\\xb4\\xea\\xb0\\x80 \\xec\\x95\\x84\\xeb\\x8b\\x88\\xec\\x97\\x90\\xec\\x9c\\xa015\\n\\xec\\x95\\x84\\xec\\x9d\\xb4\\xec\\x9c\\xa0\\xeb\\x8a\\x94 \\xec\\x95\\x84\\xec\\x9d\\xb4\\xea\\xb0\\x80 \\xec\\x95\\x84\\xeb\\x8b\\x88\\xec\\x97\\x90\\xec\\x9c\\xa016\\n\\xec\\x95\\x84\\xec\\x9d\\xb4\\xec\\x9c\\xa0\\xeb\\x8a\\x94 \\xec\\x95\\x84\\xec\\x9d\\xb4\\xea\\xb0\\x80 \\xec\\x95\\x84\\xeb\\x8b\\x88\\xec\\x97\\x90\\xec\\x9c\\xa017\\n\\xec\\x95\\x84\\xec\\x9d\\xb4\\xec\\x9c\\xa0\\xeb\\x8a\\x94 \\xec\\x95\\x84\\xec\\x9d\\xb4\\xea\\xb0\\x80 \\xec\\x95\\x84\\xeb\\x8b\\x88\\xec\\x97\\x90\\xec\\x9c\\xa018\\n\\xec\\x95\\x84\\xec\\x9d\\xb4\\xec\\x9c\\xa0\\xeb\\x8a\\x94 \\xec\\x95\\x84\\xec\\x9d\\xb4\\xea\\xb0\\x80 \\xec\\x95\\x84\\xeb\\x8b\\x88\\xec\\x97\\x90\\xec\\x9c\\xa019\\n\\xec\\x95\\x84\\xec\\x9d\\xb4\\xec\\x9c\\xa0\\xeb\\x8a\\x94 \\xec\\x95\\x84\\xec\\x9d\\xb4\\xea\\xb0\\x80 \\xec\\x95\\x84\\xeb\\x8b\\x88\\xec\\x97\\x90\\xec\\x9c\\xa020\\n\\xec\\x95\\x84\\xec\\x9d\\xb4\\xec\\x9c\\xa0\\xeb\\x8a\\x94 \\xec\\x95\\x84\\xec\\x9d\\xb4\\xea\\xb0\\x80 \\xec\\x95\\x84\\xeb\\x8b\\x88\\xec\\x97\\x90\\xec\\x9c\\xa021\\n\\xec\\x95\\x84\\xec\\x9d\\xb4\\xec\\x9c\\xa0\\xeb\\x8a\\x94 \\xec\\x95\\x84\\xec\\x9d\\xb4\\xea\\xb0\\x80 \\xec\\x95\\x84\\xeb\\x8b\\x88\\xec\\x97\\x90\\xec\\x9c\\xa022\\n\\xec\\x95\\x84\\xec\\x9d\\xb4\\xec\\x9c\\xa0\\xeb\\x8a\\x94 \\xec\\x95\\x84\\xec\\x9d\\xb4\\xea\\xb0\\x80 \\xec\\x95\\x84\\xeb\\x8b\\x88\\xec\\x97\\x90\\xec\\x9c\\xa023\\n\\xec\\x95\\x84\\xec\\x9d\\xb4\\xec\\x9c\\xa0\\xeb\\x8a\\x94 \\xec\\x95\\x84\\xec\\x9d\\xb4\\xea\\xb0\\x80 \\xec\\x95\\x84\\xeb\\x8b\\x88\\xec\\x97\\x90\\xec\\x9c\\xa024\\n\\xec\\x95\\x84\\xec\\x9d\\xb4\\xec\\x9c\\xa0\\xeb\\x8a\\x94 \\xec\\x95\\x84\\xec\\x9d\\xb4\\xea\\xb0\\x80 \\xec\\x95\\x84\\xeb\\x8b\\x88\\xec\\x97\\x90\\xec\\x9c\\xa025\\n\\xec\\x95\\x84\\xec\\x9d\\xb4\\xec\\x9c\\xa0\\xeb\\x8a\\x94 \\xec\\x95\\x84\\xec\\x9d\\xb4\\xea\\xb0\\x80 \\xec\\x95\\x84\\xeb\\x8b\\x88\\xec\\x97\\x90\\xec\\x9c\\xa026\\n\\xec\\x95\\x84\\xec\\x9d\\xb4\\xec\\x9c\\xa0\\xeb\\x8a\\x94 \\xec\\x95\\x84\\xec\\x9d\\xb4\\xea\\xb0\\x80 \\xec\\x95\\x84\\xeb\\x8b\\x88\\xec\\x97\\x90\\xec\\x9c\\xa027\\n\\xec\\x95\\x84\\xec\\x9d\\xb4\\xec\\x9c\\xa0\\xeb\\x8a\\x94 \\xec\\x95\\x84\\xec\\x9d\\xb4\\xea\\xb0\\x80 \\xec\\x95\\x84\\xeb\\x8b\\x88\\xec\\x97\\x90\\xec\\x9c\\xa028\\n\\xec\\x95\\x84\\xec\\x9d\\xb4\\xec\\x9c\\xa0\\xeb\\x8a\\x94 \\xec\\x95\\x84\\xec\\x9d\\xb4\\xea\\xb0\\x80 \\xec\\x95\\x84\\xeb\\x8b\\x88\\xec\\x97\\x90\\xec\\x9c\\xa029\\n\\xec\\x95\\x84\\xec\\x9d\\xb4\\xec\\x9c\\xa0\\xeb\\x8a\\x94 \\xec\\x95\\x84\\xec\\x9d\\xb4\\xea\\xb0\\x80 \\xec\\x95\\x84\\xeb\\x8b\\x88\\xec\\x97\\x90\\xec\\x9c\\xa030\\n\\xec\\x95\\x84\\xec\\x9d\\xb4\\xec\\x9c\\xa0\\xeb\\x8a\\x94 \\xec\\x95\\x84\\xec\\x9d\\xb4\\xea\\xb0\\x80 \\xec\\x95\\x84\\xeb\\x8b\\x88\\xec\\x97\\x90\\xec\\x9c\\xa031\\n\\xec\\x95\\x84\\xec\\x9d\\xb4\\xec\\x9c\\xa0\\xeb\\x8a\\x94 \\xec\\x95\\x84\\xec\\x9d\\xb4\\xea\\xb0\\x80 \\xec\\x95\\x84\\xeb\\x8b\\x88\\xec\\x97\\x90\\xec\\x9c\\xa032\\n\\xec\\x95\\x84\\xec\\x9d\\xb4\\xec\\x9c\\xa0\\xeb\\x8a\\x94 \\xec\\x95\\x84\\xec\\x9d\\xb4\\xea\\xb0\\x80 \\xec\\x95\\x84\\xeb\\x8b\\x88\\xec\\x97\\x90\\xec\\x9c\\xa033\\n\\xec\\x95\\x84\\xec\\x9d\\xb4\\xec\\x9c\\xa0\\xeb\\x8a\\x94 \\xec\\x95\\x84\\xec\\x9d\\xb4\\xea\\xb0\\x80 \\xec\\x95\\x84\\xeb\\x8b\\x88\\xec\\x97\\x90\\xec\\x9c\\xa034\\n\\xec\\x95\\x84\\xec\\x9d\\xb4\\xec\\x9c\\xa0\\xeb\\x8a\\x94 \\xec\\x95\\x84\\xec\\x9d\\xb4\\xea\\xb0\\x80 \\xec\\x95\\x84\\xeb\\x8b\\x88\\xec\\x97\\x90\\xec\\x9c\\xa035\\n\\xec\\x95\\x84\\xec\\x9d\\xb4\\xec\\x9c\\xa0\\xeb\\x8a\\x94 \\xec\\x95\\x84\\xec\\x9d\\xb4\\xea\\xb0\\x80 \\xec\\x95\\x84\\xeb\\x8b\\x88\\xec\\x97\\x90\\xec\\x9c\\xa036\\n\\xec\\x95\\x84\\xec\\x9d\\xb4\\xec\\x9c\\xa0\\xeb\\x8a\\x94 \\xec\\x95\\x84\\xec\\x9d\\xb4\\xea\\xb0\\x80 \\xec\\x95\\x84\\xeb\\x8b\\x88\\xec\\x97\\x90\\xec\\x9c\\xa037\\n\\xec\\x95\\x84\\xec\\x9d\\xb4\\xec\\x9c\\xa0\\xeb\\x8a\\x94 \\xec\\x95\\x84\\xec\\x9d\\xb4\\xea\\xb0\\x80 \\xec\\x95\\x84\\xeb\\x8b\\x88\\xec\\x97\\x90\\xec\\x9c\\xa038\\n\\xec\\x95\\x84\\xec\\x9d\\xb4\\xec\\x9c\\xa0\\xeb\\x8a\\x94 \\xec\\x95\\x84\\xec\\x9d\\xb4\\xea\\xb0\\x80 \\xec\\x95\\x84\\xeb\\x8b\\x88\\xec\\x97\\x90\\xec\\x9c\\xa039\\n\\xec\\x95\\x84\\xec\\x9d\\xb4\\xec\\x9c\\xa0\\xeb\\x8a\\x94 \\xec\\x95\\x84\\xec\\x9d\\xb4\\xea\\xb0\\x80 \\xec\\x95\\x84\\xeb\\x8b\\x88\\xec\\x97\\x90\\xec\\x9c\\xa040\\n\\xec\\x95\\x84\\xec\\x9d\\xb4\\xec\\x9c\\xa0\\xeb\\x8a\\x94 \\xec\\x95\\x84\\xec\\x9d\\xb4\\xea\\xb0\\x80 \\xec\\x95\\x84\\xeb\\x8b\\x88\\xec\\x97\\x90\\xec\\x9c\\xa041\\n\\xec\\x95\\x84\\xec\\x9d\\xb4\\xec\\x9c\\xa0\\xeb\\x8a\\x94 \\xec\\x95\\x84\\xec\\x9d\\xb4\\xea\\xb0\\x80 \\xec\\x95\\x84\\xeb\\x8b\\x88\\xec\\x97\\x90\\xec\\x9c\\xa042\\n\\xec\\x95\\x84\\xec\\x9d\\xb4\\xec\\x9c\\xa0\\xeb\\x8a\\x94 \\xec\\x95\\x84\\xec\\x9d\\xb4\\xea\\xb0\\x80 \\xec\\x95\\x84\\xeb\\x8b\\x88\\xec\\x97\\x90\\xec\\x9c\\xa043\\n\\xec\\x95\\x84\\xec\\x9d\\xb4\\xec\\x9c\\xa0\\xeb\\x8a\\x94 \\xec\\x95\\x84\\xec\\x9d\\xb4\\xea\\xb0\\x80 \\xec\\x95\\x84\\xeb\\x8b\\x88\\xec\\x97\\x90\\xec\\x9c\\xa044\\n\\xec\\x95\\x84\\xec\\x9d\\xb4\\xec\\x9c\\xa0\\xeb\\x8a\\x94 \\xec\\x95\\x84\\xec\\x9d\\xb4\\xea\\xb0\\x80 \\xec\\x95\\x84\\xeb\\x8b\\x88\\xec\\x97\\x90\\xec\\x9c\\xa045\\n\\xec\\x95\\x84\\xec\\x9d\\xb4\\xec\\x9c\\xa0\\xeb\\x8a\\x94 \\xec\\x95\\x84\\xec\\x9d\\xb4\\xea\\xb0\\x80 \\xec\\x95\\x84\\xeb\\x8b\\x88\\xec\\x97\\x90\\xec\\x9c\\xa046\\n\\xec\\x95\\x84\\xec\\x9d\\xb4\\xec\\x9c\\xa0\\xeb\\x8a\\x94 \\xec\\x95\\x84\\xec\\x9d\\xb4\\xea\\xb0\\x80 \\xec\\x95\\x84\\xeb\\x8b\\x88\\xec\\x97\\x90\\xec\\x9c\\xa047\\n\\xec\\x95\\x84\\xec\\x9d\\xb4\\xec\\x9c\\xa0\\xeb\\x8a\\x94 \\xec\\x95\\x84\\xec\\x9d\\xb4\\xea\\xb0\\x80 \\xec\\x95\\x84\\xeb\\x8b\\x88\\xec\\x97\\x90\\xec\\x9c\\xa048\\n\\xec\\x95\\x84\\xec\\x9d\\xb4\\xec\\x9c\\xa0\\xeb\\x8a\\x94 \\xec\\x95\\x84\\xec\\x9d\\xb4\\xea\\xb0\\x80 \\xec\\x95\\x84\\xeb\\x8b\\x88\\xec\\x97\\x90\\xec\\x9c\\xa049\\n\\xec\\x95\\x84\\xec\\x9d\\xb4\\xec\\x9c\\xa0\\xeb\\x8a\\x94 \\xec\\x95\\x84\\xec\\x9d\\xb4\\xea\\xb0\\x80 \\xec\\x95\\x84\\xeb\\x8b\\x88\\xec\\x97\\x90\\xec\\x9c\\xa050\\n\\xec\\x95\\x84\\xec\\x9d\\xb4\\xec\\x9c\\xa0\\xeb\\x8a\\x94 \\xec\\x95\\x84\\xec\\x9d\\xb4\\xea\\xb0\\x80 \\xec\\x95\\x84\\xeb\\x8b\\x88\\xec\\x97\\x90\\xec\\x9c\\xa051\\n\\xec\\x95\\x84\\xec\\x9d\\xb4\\xec\\x9c\\xa0\\xeb\\x8a\\x94 \\xec\\x95\\x84\\xec\\x9d\\xb4\\xea\\xb0\\x80 \\xec\\x95\\x84\\xeb\\x8b\\x88\\xec\\x97\\x90\\xec\\x9c\\xa052\\n\\xec\\x95\\x84\\xec\\x9d\\xb4\\xec\\x9c\\xa0\\xeb\\x8a\\x94 \\xec\\x95\\x84\\xec\\x9d\\xb4\\xea\\xb0\\x80 \\xec\\x95\\x84\\xeb\\x8b\\x88\\xec\\x97\\x90\\xec\\x9c\\xa053\\n\\xec\\x95\\x84\\xec\\x9d\\xb4\\xec\\x9c\\xa0\\xeb\\x8a\\x94 \\xec\\x95\\x84\\xec\\x9d\\xb4\\xea\\xb0\\x80 \\xec\\x95\\x84\\xeb\\x8b\\x88\\xec\\x97\\x90\\xec\\x9c\\xa054\\n\\xec\\x95\\x84\\xec\\x9d\\xb4\\xec\\x9c\\xa0\\xeb\\x8a\\x94 \\xec\\x95\\x84\\xec\\x9d\\xb4\\xea\\xb0\\x80 \\xec\\x95\\x84\\xeb\\x8b\\x88\\xec\\x97\\x90\\xec\\x9c\\xa055\\n\\xec\\x95\\x84\\xec\\x9d\\xb4\\xec\\x9c\\xa0\\xeb\\x8a\\x94 \\xec\\x95\\x84\\xec\\x9d\\xb4\\xea\\xb0\\x80 \\xec\\x95\\x84\\xeb\\x8b\\x88\\xec\\x97\\x90\\xec\\x9c\\xa056\\n\\xec\\x95\\x84\\xec\\x9d\\xb4\\xec\\x9c\\xa0\\xeb\\x8a\\x94 \\xec\\x95\\x84\\xec\\x9d\\xb4\\xea\\xb0\\x80 \\xec\\x95\\x84\\xeb\\x8b\\x88\\xec\\x97\\x90\\xec\\x9c\\xa057\\n\\xec\\x95\\x84\\xec\\x9d\\xb4\\xec\\x9c\\xa0\\xeb\\x8a\\x94 \\xec\\x95\\x84\\xec\\x9d\\xb4\\xea\\xb0\\x80 \\xec\\x95\\x84\\xeb\\x8b\\x88\\xec\\x97\\x90\\xec\\x9c\\xa058\\n\\xec\\x95\\x84\\xec\\x9d\\xb4\\xec\\x9c\\xa0\\xeb\\x8a\\x94 \\xec\\x95\\x84\\xec\\x9d\\xb4\\xea\\xb0\\x80 \\xec\\x95\\x84\\xeb\\x8b\\x88\\xec\\x97\\x90\\xec\\x9c\\xa059\\n\\xec\\x95\\x84\\xec\\x9d\\xb4\\xec\\x9c\\xa0\\xeb\\x8a\\x94 \\xec\\x95\\x84\\xec\\x9d\\xb4\\xea\\xb0\\x80 \\xec\\x95\\x84\\xeb\\x8b\\x88\\xec\\x97\\x90\\xec\\x9c\\xa060\\n\\xec\\x95\\x84\\xec\\x9d\\xb4\\xec\\x9c\\xa0\\xeb\\x8a\\x94 \\xec\\x95\\x84\\xec\\x9d\\xb4\\xea\\xb0\\x80 \\xec\\x95\\x84\\xeb\\x8b\\x88\\xec\\x97\\x90\\xec\\x9c\\xa061\\n\\xec\\x95\\x84\\xec\\x9d\\xb4\\xec\\x9c\\xa0\\xeb\\x8a\\x94 \\xec\\x95\\x84\\xec\\x9d\\xb4\\xea\\xb0\\x80 \\xec\\x95\\x84\\xeb\\x8b\\x88\\xec\\x97\\x90\\xec\\x9c\\xa062\\n\\xec\\x95\\x84\\xec\\x9d\\xb4\\xec\\x9c\\xa0\\xeb\\x8a\\x94 \\xec\\x95\\x84\\xec\\x9d\\xb4\\xea\\xb0\\x80 \\xec\\x95\\x84\\xeb\\x8b\\x88\\xec\\x97\\x90\\xec\\x9c\\xa063\\n\\xec\\x95\\x84\\xec\\x9d\\xb4\\xec\\x9c\\xa0\\xeb\\x8a\\x94 \\xec\\x95\\x84\\xec\\x9d\\xb4\\xea\\xb0\\x80 \\xec\\x95\\x84\\xeb\\x8b\\x88\\xec\\x97\\x90\\xec\\x9c\\xa064\\n\\xec\\x95\\x84\\xec\\x9d\\xb4\\xec\\x9c\\xa0\\xeb\\x8a\\x94 \\xec\\x95\\x84\\xec\\x9d\\xb4\\xea\\xb0\\x80 \\xec\\x95\\x84\\xeb\\x8b\\x88\\xec\\x97\\x90\\xec\\x9c\\xa065\\n\\xec\\x95\\x84\\xec\\x9d\\xb4\\xec\\x9c\\xa0\\xeb\\x8a\\x94 \\xec\\x95\\x84\\xec\\x9d\\xb4\\xea\\xb0\\x80 \\xec\\x95\\x84\\xeb\\x8b\\x88\\xec\\x97\\x90\\xec\\x9c\\xa066\\n\\xec\\x95\\x84\\xec\\x9d\\xb4\\xec\\x9c\\xa0\\xeb\\x8a\\x94 \\xec\\x95\\x84\\xec\\x9d\\xb4\\xea\\xb0\\x80 \\xec\\x95\\x84\\xeb\\x8b\\x88\\xec\\x97\\x90\\xec\\x9c\\xa067\\n\\xec\\x95\\x84\\xec\\x9d\\xb4\\xec\\x9c\\xa0\\xeb\\x8a\\x94 \\xec\\x95\\x84\\xec\\x9d\\xb4\\xea\\xb0\\x80 \\xec\\x95\\x84\\xeb\\x8b\\x88\\xec\\x97\\x90\\xec\\x9c\\xa068\\n\\xec\\x95\\x84\\xec\\x9d\\xb4\\xec\\x9c\\xa0\\xeb\\x8a\\x94 \\xec\\x95\\x84\\xec\\x9d\\xb4\\xea\\xb0\\x80 \\xec\\x95\\x84\\xeb\\x8b\\x88\\xec\\x97\\x90\\xec\\x9c\\xa069\\n\\xec\\x95\\x84\\xec\\x9d\\xb4\\xec\\x9c\\xa0\\xeb\\x8a\\x94 \\xec\\x95\\x84\\xec\\x9d\\xb4\\xea\\xb0\\x80 \\xec\\x95\\x84\\xeb\\x8b\\x88\\xec\\x97\\x90\\xec\\x9c\\xa070\\n\\xec\\x95\\x84\\xec\\x9d\\xb4\\xec\\x9c\\xa0\\xeb\\x8a\\x94 \\xec\\x95\\x84\\xec\\x9d\\xb4\\xea\\xb0\\x80 \\xec\\x95\\x84\\xeb\\x8b\\x88\\xec\\x97\\x90\\xec\\x9c\\xa071\\n\\xec\\x95\\x84\\xec\\x9d\\xb4\\xec\\x9c\\xa0\\xeb\\x8a\\x94 \\xec\\x95\\x84\\xec\\x9d\\xb4\\xea\\xb0\\x80 \\xec\\x95\\x84\\xeb\\x8b\\x88\\xec\\x97\\x90\\xec\\x9c\\xa072\\n\\xec\\x95\\x84\\xec\\x9d\\xb4\\xec\\x9c\\xa0\\xeb\\x8a\\x94 \\xec\\x95\\x84\\xec\\x9d\\xb4\\xea\\xb0\\x80 \\xec\\x95\\x84\\xeb\\x8b\\x88\\xec\\x97\\x90\\xec\\x9c\\xa073\\n\\xec\\x95\\x84\\xec\\x9d\\xb4\\xec\\x9c\\xa0\\xeb\\x8a\\x94 \\xec\\x95\\x84\\xec\\x9d\\xb4\\xea\\xb0\\x80 \\xec\\x95\\x84\\xeb\\x8b\\x88\\xec\\x97\\x90\\xec\\x9c\\xa074\\n\\xec\\x95\\x84\\xec\\x9d\\xb4\\xec\\x9c\\xa0\\xeb\\x8a\\x94 \\xec\\x95\\x84\\xec\\x9d\\xb4\\xea\\xb0\\x80 \\xec\\x95\\x84\\xeb\\x8b\\x88\\xec\\x97\\x90\\xec\\x9c\\xa075\\n\\xec\\x95\\x84\\xec\\x9d\\xb4\\xec\\x9c\\xa0\\xeb\\x8a\\x94 \\xec\\x95\\x84\\xec\\x9d\\xb4\\xea\\xb0\\x80 \\xec\\x95\\x84\\xeb\\x8b\\x88\\xec\\x97\\x90\\xec\\x9c\\xa076\\n\\xec\\x95\\x84\\xec\\x9d\\xb4\\xec\\x9c\\xa0\\xeb\\x8a\\x94 \\xec\\x95\\x84\\xec\\x9d\\xb4\\xea\\xb0\\x80 \\xec\\x95\\x84\\xeb\\x8b\\x88\\xec\\x97\\x90\\xec\\x9c\\xa077\\n\\xec\\x95\\x84\\xec\\x9d\\xb4\\xec\\x9c\\xa0\\xeb\\x8a\\x94 \\xec\\x95\\x84\\xec\\x9d\\xb4\\xea\\xb0\\x80 \\xec\\x95\\x84\\xeb\\x8b\\x88\\xec\\x97\\x90\\xec\\x9c\\xa078\\n\\xec\\x95\\x84\\xec\\x9d\\xb4\\xec\\x9c\\xa0\\xeb\\x8a\\x94 \\xec\\x95\\x84\\xec\\x9d\\xb4\\xea\\xb0\\x80 \\xec\\x95\\x84\\xeb\\x8b\\x88\\xec\\x97\\x90\\xec\\x9c\\xa079\\n\\xec\\x95\\x84\\xec\\x9d\\xb4\\xec\\x9c\\xa0\\xeb\\x8a\\x94 \\xec\\x95\\x84\\xec\\x9d\\xb4\\xea\\xb0\\x80 \\xec\\x95\\x84\\xeb\\x8b\\x88\\xec\\x97\\x90\\xec\\x9c\\xa080\\n\\xec\\x95\\x84\\xec\\x9d\\xb4\\xec\\x9c\\xa0\\xeb\\x8a\\x94 \\xec\\x95\\x84\\xec\\x9d\\xb4\\xea\\xb0\\x80 \\xec\\x95\\x84\\xeb\\x8b\\x88\\xec\\x97\\x90\\xec\\x9c\\xa081\\n\\xec\\x95\\x84\\xec\\x9d\\xb4\\xec\\x9c\\xa0\\xeb\\x8a\\x94 \\xec\\x95\\x84\\xec\\x9d\\xb4\\xea\\xb0\\x80 \\xec\\x95\\x84\\xeb\\x8b\\x88\\xec\\x97\\x90\\xec\\x9c\\xa082\\n\\xec\\x95\\x84\\xec\\x9d\\xb4\\xec\\x9c\\xa0\\xeb\\x8a\\x94 \\xec\\x95\\x84\\xec\\x9d\\xb4\\xea\\xb0\\x80 \\xec\\x95\\x84\\xeb\\x8b\\x88\\xec\\x97\\x90\\xec\\x9c\\xa083\\n\\xec\\x95\\x84\\xec\\x9d\\xb4\\xec\\x9c\\xa0\\xeb\\x8a\\x94 \\xec\\x95\\x84\\xec\\x9d\\xb4\\xea\\xb0\\x80 \\xec\\x95\\x84\\xeb\\x8b\\x88\\xec\\x97\\x90\\xec\\x9c\\xa084\\n\\xec\\x95\\x84\\xec\\x9d\\xb4\\xec\\x9c\\xa0\\xeb\\x8a\\x94 \\xec\\x95\\x84\\xec\\x9d\\xb4\\xea\\xb0\\x80 \\xec\\x95\\x84\\xeb\\x8b\\x88\\xec\\x97\\x90\\xec\\x9c\\xa085\\n\\xec\\x95\\x84\\xec\\x9d\\xb4\\xec\\x9c\\xa0\\xeb\\x8a\\x94 \\xec\\x95\\x84\\xec\\x9d\\xb4\\xea\\xb0\\x80 \\xec\\x95\\x84\\xeb\\x8b\\x88\\xec\\x97\\x90\\xec\\x9c\\xa086\\n\\xec\\x95\\x84\\xec\\x9d\\xb4\\xec\\x9c\\xa0\\xeb\\x8a\\x94 \\xec\\x95\\x84\\xec\\x9d\\xb4\\xea\\xb0\\x80 \\xec\\x95\\x84\\xeb\\x8b\\x88\\xec\\x97\\x90\\xec\\x9c\\xa087\\n\\xec\\x95\\x84\\xec\\x9d\\xb4\\xec\\x9c\\xa0\\xeb\\x8a\\x94 \\xec\\x95\\x84\\xec\\x9d\\xb4\\xea\\xb0\\x80 \\xec\\x95\\x84\\xeb\\x8b\\x88\\xec\\x97\\x90\\xec\\x9c\\xa088\\n\\xec\\x95\\x84\\xec\\x9d\\xb4\\xec\\x9c\\xa0\\xeb\\x8a\\x94 \\xec\\x95\\x84\\xec\\x9d\\xb4\\xea\\xb0\\x80 \\xec\\x95\\x84\\xeb\\x8b\\x88\\xec\\x97\\x90\\xec\\x9c\\xa089\\n\\xec\\x95\\x84\\xec\\x9d\\xb4\\xec\\x9c\\xa0\\xeb\\x8a\\x94 \\xec\\x95\\x84\\xec\\x9d\\xb4\\xea\\xb0\\x80 \\xec\\x95\\x84\\xeb\\x8b\\x88\\xec\\x97\\x90\\xec\\x9c\\xa090\\n\\xec\\x95\\x84\\xec\\x9d\\xb4\\xec\\x9c\\xa0\\xeb\\x8a\\x94 \\xec\\x95\\x84\\xec\\x9d\\xb4\\xea\\xb0\\x80 \\xec\\x95\\x84\\xeb\\x8b\\x88\\xec\\x97\\x90\\xec\\x9c\\xa091\\n\\xec\\x95\\x84\\xec\\x9d\\xb4\\xec\\x9c\\xa0\\xeb\\x8a\\x94 \\xec\\x95\\x84\\xec\\x9d\\xb4\\xea\\xb0\\x80 \\xec\\x95\\x84\\xeb\\x8b\\x88\\xec\\x97\\x90\\xec\\x9c\\xa092\\n\\xec\\x95\\x84\\xec\\x9d\\xb4\\xec\\x9c\\xa0\\xeb\\x8a\\x94 \\xec\\x95\\x84\\xec\\x9d\\xb4\\xea\\xb0\\x80 \\xec\\x95\\x84\\xeb\\x8b\\x88\\xec\\x97\\x90\\xec\\x9c\\xa093\\n\\xec\\x95\\x84\\xec\\x9d\\xb4\\xec\\x9c\\xa0\\xeb\\x8a\\x94 \\xec\\x95\\x84\\xec\\x9d\\xb4\\xea\\xb0\\x80 \\xec\\x95\\x84\\xeb\\x8b\\x88\\xec\\x97\\x90\\xec\\x9c\\xa094\\n\\xec\\x95\\x84\\xec\\x9d\\xb4\\xec\\x9c\\xa0\\xeb\\x8a\\x94 \\xec\\x95\\x84\\xec\\x9d\\xb4\\xea\\xb0\\x80 \\xec\\x95\\x84\\xeb\\x8b\\x88\\xec\\x97\\x90\\xec\\x9c\\xa095\\n\\xec\\x95\\x84\\xec\\x9d\\xb4\\xec\\x9c\\xa0\\xeb\\x8a\\x94 \\xec\\x95\\x84\\xec\\x9d\\xb4\\xea\\xb0\\x80 \\xec\\x95\\x84\\xeb\\x8b\\x88\\xec\\x97\\x90\\xec\\x9c\\xa096\\n\\xec\\x95\\x84\\xec\\x9d\\xb4\\xec\\x9c\\xa0\\xeb\\x8a\\x94 \\xec\\x95\\x84\\xec\\x9d\\xb4\\xea\\xb0\\x80 \\xec\\x95\\x84\\xeb\\x8b\\x88\\xec\\x97\\x90\\xec\\x9c\\xa097\\n\\xec\\x95\\x84\\xec\\x9d\\xb4\\xec\\x9c\\xa0\\xeb\\x8a\\x94 \\xec\\x95\\x84\\xec\\x9d\\xb4\\xea\\xb0\\x80 \\xec\\x95\\x84\\xeb\\x8b\\x88\\xec\\x97\\x90\\xec\\x9c\\xa098\\n\\xec\\x95\\x84\\xec\\x9d\\xb4\\xec\\x9c\\xa0\\xeb\\x8a\\x94 \\xec\\x95\\x84\\xec\\x9d\\xb4\\xea\\xb0\\x80 \\xec\\x95\\x84\\xeb\\x8b\\x88\\xec\\x97\\x90\\xec\\x9c\\xa099\\n'"
      ]
     },
     "execution_count": 27,
     "metadata": {},
     "output_type": "execute_result"
    }
   ],
   "source": [
    "f = open('iu.txt', 'rb')\n",
    "f.read()"
   ]
  },
  {
   "cell_type": "code",
   "execution_count": 28,
   "metadata": {},
   "outputs": [
    {
     "ename": "FileNotFoundError",
     "evalue": "[Errno 2] No such file or directory: 'webtoon_list.html'",
     "output_type": "error",
     "traceback": [
      "\u001b[0;31m---------------------------------------------------------------------------\u001b[0m",
      "\u001b[0;31mFileNotFoundError\u001b[0m                         Traceback (most recent call last)",
      "\u001b[0;32m<ipython-input-28-07082ddbfbe1>\u001b[0m in \u001b[0;36m<module>\u001b[0;34m\u001b[0m\n\u001b[1;32m      1\u001b[0m \u001b[0;31m# \"webtoon_list.html\" text-file 만든 후\u001b[0m\u001b[0;34m\u001b[0m\u001b[0;34m\u001b[0m\u001b[0;34m\u001b[0m\u001b[0m\n\u001b[1;32m      2\u001b[0m \u001b[0mhtml\u001b[0m \u001b[0;34m=\u001b[0m \u001b[0;34m''\u001b[0m\u001b[0;34m\u001b[0m\u001b[0;34m\u001b[0m\u001b[0m\n\u001b[0;32m----> 3\u001b[0;31m \u001b[0;32mwith\u001b[0m \u001b[0mopen\u001b[0m\u001b[0;34m(\u001b[0m\u001b[0;34m'webtoon_list.html'\u001b[0m\u001b[0;34m,\u001b[0m \u001b[0;34m'rt'\u001b[0m\u001b[0;34m)\u001b[0m \u001b[0;32mas\u001b[0m \u001b[0mf\u001b[0m\u001b[0;34m:\u001b[0m\u001b[0;34m\u001b[0m\u001b[0;34m\u001b[0m\u001b[0m\n\u001b[0m\u001b[1;32m      4\u001b[0m     \u001b[0mhtml\u001b[0m \u001b[0;34m=\u001b[0m \u001b[0mf\u001b[0m\u001b[0;34m.\u001b[0m\u001b[0mread\u001b[0m\u001b[0;34m(\u001b[0m\u001b[0;34m)\u001b[0m\u001b[0;34m\u001b[0m\u001b[0;34m\u001b[0m\u001b[0m\n",
      "\u001b[0;31mFileNotFoundError\u001b[0m: [Errno 2] No such file or directory: 'webtoon_list.html'"
     ]
    }
   ],
   "source": [
    "# 크롤링\n",
    "# \"webtoon_list.html\" text file 생성\n",
    "html = ''\n",
    "with open('webtoon_list.html', 'rt') as f:\n",
    "    html = f.read()"
   ]
  },
  {
   "cell_type": "code",
   "execution_count": 32,
   "metadata": {},
   "outputs": [
    {
     "data": {
      "text/plain": [
       "[]"
      ]
     },
     "execution_count": 32,
     "metadata": {},
     "output_type": "execute_result"
    }
   ],
   "source": [
    "import re\n",
    "\n",
    "sample = '''\n",
    "<a href=\"asdf\" class=\"title\" title=\"유미의 세포들\">유미의 세포들</a>\n",
    "<a href=\"asdf\" class=\"title\" title=\"덴마\">덴마</a>\n",
    "'''\n",
    "# re.findall(r'<a.*?>[\\w\\s]+</a>', html)\n",
    "\n",
    "# a 태그가 \"title\"인 class를 가진 경우의 정규표현식\n",
    "re.findall(r'<a.*?class=\"title\".*?>([\\w\\s]+)</a>', html)\n",
    "\n",
    "# 숙제\n",
    "# 1. 위 a 태그가 가진 \"href\" 속성 값 가져오기\n",
    "# 2. 위 a 태그가 가진 \"href\" 속성 내 \"titleId\" GET parameter 값 가져오기\n",
    "# 3. 전체 웹툰 목록에 중복내역이 표시되는데, 이를 없앤 리스트 만들기\n",
    "# 4. 각 웹툰이 1주에 총 몇 회 연재되는지 표시"
   ]
  },
  {
   "cell_type": "code",
   "execution_count": 2,
   "metadata": {},
   "outputs": [
    {
     "ename": "NameError",
     "evalue": "name 're' is not defined",
     "output_type": "error",
     "traceback": [
      "\u001b[0;31m---------------------------------------------------------------------------\u001b[0m",
      "\u001b[0;31mNameError\u001b[0m                                 Traceback (most recent call last)",
      "\u001b[0;32m<ipython-input-2-085a4c90cdf2>\u001b[0m in \u001b[0;36m<module>\u001b[0;34m\u001b[0m\n\u001b[1;32m      1\u001b[0m \u001b[0;31m# 1. 위 a 태그가 가진 \"href\" 속성 값 가져오기\u001b[0m\u001b[0;34m\u001b[0m\u001b[0;34m\u001b[0m\u001b[0;34m\u001b[0m\u001b[0m\n\u001b[0;32m----> 2\u001b[0;31m p = re.compile(r'''\n\u001b[0m\u001b[1;32m      3\u001b[0m                 \u001b[0;34m<\u001b[0m\u001b[0ma\u001b[0m\u001b[0;34m.\u001b[0m\u001b[0;34m*\u001b[0m\u001b[0;31m?\u001b[0m             \u001b[0;31m# a 태그\u001b[0m\u001b[0;34m\u001b[0m\u001b[0;34m\u001b[0m\u001b[0m\n\u001b[1;32m      4\u001b[0m                 \u001b[0mhref\u001b[0m\u001b[0;34m=\u001b[0m\u001b[0;34m\"(.*?)\"\u001b[0m\u001b[0;34m.\u001b[0m\u001b[0;34m*\u001b[0m\u001b[0;31m?\u001b[0m   \u001b[0;31m# href\u001b[0m\u001b[0;34m\u001b[0m\u001b[0;34m\u001b[0m\u001b[0m\n\u001b[1;32m      5\u001b[0m                 \u001b[0;32mclass\u001b[0m\u001b[0;34m=\u001b[0m\u001b[0;34m\"title\"\u001b[0m\u001b[0;34m.\u001b[0m\u001b[0;34m*\u001b[0m\u001b[0;31m?\u001b[0m\u001b[0;34m>\u001b[0m \u001b[0;31m# class=title\u001b[0m\u001b[0;34m\u001b[0m\u001b[0;34m\u001b[0m\u001b[0m\n",
      "\u001b[0;31mNameError\u001b[0m: name 're' is not defined"
     ]
    }
   ],
   "source": [
    "# 1. 위 a 태그가 가진 \"href\" 속성 값 가져오기\n",
    "p = re.compile(r'''\n",
    "                <a.*?             # a 태그\n",
    "                href=\"(.*?)\".*?   # href\n",
    "                class=\"title\".*?> # class=title\n",
    "                (?P<name>[\\w\\s]+) # a 태그 열고 닫는 사이의 텍스트\n",
    "                </a>              # a 태그 닫기\n",
    "                ''', re.X)\n",
    "\n",
    "m_list = re.findall(p, html)\n",
    "\n",
    "for m in m_list:\n",
    "    print(m.group('href'))\n",
    "    print(m.group('name'))"
   ]
  },
  {
   "cell_type": "code",
   "execution_count": 3,
   "metadata": {},
   "outputs": [
    {
     "ename": "NameError",
     "evalue": "name 're' is not defined",
     "output_type": "error",
     "traceback": [
      "\u001b[0;31m---------------------------------------------------------------------------\u001b[0m",
      "\u001b[0;31mNameError\u001b[0m                                 Traceback (most recent call last)",
      "\u001b[0;32m<ipython-input-3-2ec0d50430d4>\u001b[0m in \u001b[0;36m<module>\u001b[0;34m\u001b[0m\n\u001b[1;32m      1\u001b[0m \u001b[0;31m# 2. 위 a 태그가 가진 \"href\" 속성 내 \"titleId\" GET parameter 값 가져오기\u001b[0m\u001b[0;34m\u001b[0m\u001b[0;34m\u001b[0m\u001b[0;34m\u001b[0m\u001b[0m\n\u001b[0;32m----> 2\u001b[0;31m p = re.compile(r'''\n\u001b[0m\u001b[1;32m      3\u001b[0m                 \u001b[0;34m<\u001b[0m\u001b[0ma\u001b[0m\u001b[0;34m.\u001b[0m\u001b[0;34m*\u001b[0m\u001b[0;31m?\u001b[0m                     \u001b[0;31m# a 태그\u001b[0m\u001b[0;34m\u001b[0m\u001b[0;34m\u001b[0m\u001b[0m\n\u001b[1;32m      4\u001b[0m                 \u001b[0mhref\u001b[0m\u001b[0;34m=\u001b[0m\u001b[0;34m\"(?P<href>.*?)\"\u001b[0m\u001b[0;34m.\u001b[0m\u001b[0;34m*\u001b[0m\u001b[0;31m?\u001b[0m   \u001b[0;31m# href\u001b[0m\u001b[0;34m\u001b[0m\u001b[0;34m\u001b[0m\u001b[0m\n\u001b[1;32m      5\u001b[0m                 \u001b[0;32mclass\u001b[0m\u001b[0;34m=\u001b[0m\u001b[0;34m\"title\"\u001b[0m\u001b[0;34m.\u001b[0m\u001b[0;34m*\u001b[0m\u001b[0;31m?\u001b[0m\u001b[0;34m>\u001b[0m         \u001b[0;31m# class=title\u001b[0m\u001b[0;34m\u001b[0m\u001b[0;34m\u001b[0m\u001b[0m\n",
      "\u001b[0;31mNameError\u001b[0m: name 're' is not defined"
     ]
    }
   ],
   "source": [
    "# 2. 위 a 태그가 가진 \"href\" 속성 내 \"titleId\" GET parameter 값 가져오기\n",
    "p = re.compile(r'''\n",
    "                <a.*?                     # a 태그\n",
    "                href=\"(?P<href>.*?)\".*?   # href\n",
    "                class=\"title\".*?>         # class=title\n",
    "                (?P<name>[\\w\\s]+)         # a 태그 열고 닫는 사이의 텍스트\n",
    "                </a>                      # a 태그 닫기\n",
    "                ''', re.VERBOSE)\n",
    "\n",
    "m_list = re.finditer(p, html)\n",
    "\n",
    "for m in m_list:\n",
    "    print(m.group('href'))\n",
    "    \n",
    "    title_match = re.search(r'\\?titleId=(\\d+)', m.group('href'))\n",
    "    title_id = title_match.group(1)\n",
    "    print(title_id)\n",
    "    \n",
    "    print(m.group('name'))"
   ]
  },
  {
   "cell_type": "code",
   "execution_count": 5,
   "metadata": {},
   "outputs": [
    {
     "ename": "NameError",
     "evalue": "name 're' is not defined",
     "output_type": "error",
     "traceback": [
      "\u001b[0;31m---------------------------------------------------------------------------\u001b[0m",
      "\u001b[0;31mNameError\u001b[0m                                 Traceback (most recent call last)",
      "\u001b[0;32m<ipython-input-5-a34d39ddbdd6>\u001b[0m in \u001b[0;36m<module>\u001b[0;34m\u001b[0m\n\u001b[1;32m      1\u001b[0m \u001b[0;31m# 3. 전체 웹툰 목록에 중복내역이 표시되는데, 이를 없앤 리스트 만들기\u001b[0m\u001b[0;34m\u001b[0m\u001b[0;34m\u001b[0m\u001b[0;34m\u001b[0m\u001b[0m\n\u001b[1;32m      2\u001b[0m \u001b[0;31m# 2. 위 a 태그가 가진 \"href\" 속성 내 \"titleId\" GET parameter 값 가져오기\u001b[0m\u001b[0;34m\u001b[0m\u001b[0;34m\u001b[0m\u001b[0;34m\u001b[0m\u001b[0m\n\u001b[0;32m----> 3\u001b[0;31m p = re.compile(r'''\n\u001b[0m\u001b[1;32m      4\u001b[0m                 \u001b[0;34m<\u001b[0m\u001b[0ma\u001b[0m\u001b[0;34m.\u001b[0m\u001b[0;34m*\u001b[0m\u001b[0;31m?\u001b[0m                     \u001b[0;31m# a 태그\u001b[0m\u001b[0;34m\u001b[0m\u001b[0;34m\u001b[0m\u001b[0m\n\u001b[1;32m      5\u001b[0m                 \u001b[0;32mclass\u001b[0m\u001b[0;34m=\u001b[0m\u001b[0;34m\"title\"\u001b[0m\u001b[0;34m.\u001b[0m\u001b[0;34m*\u001b[0m\u001b[0;31m?\u001b[0m\u001b[0;34m>\u001b[0m         \u001b[0;31m# class=title\u001b[0m\u001b[0;34m\u001b[0m\u001b[0;34m\u001b[0m\u001b[0m\n",
      "\u001b[0;31mNameError\u001b[0m: name 're' is not defined"
     ]
    }
   ],
   "source": [
    "# 3. 전체 웹툰 목록에 중복내역이 표시되는데, 이를 없앤 리스트 만들기\n",
    "p = re.compile(r'''\n",
    "                <a.*?                     # a 태그\n",
    "                class=\"title\".*?>         # class=title\n",
    "                (?P<name>[\\w\\s]+)         # a 태그 열고 닫는 사이의 텍스트\n",
    "                </a>                      # a 태그 닫기\n",
    "                ''', re.X)\n",
    "\n",
    "# 중복이 존재하던 목록\n",
    "webtoon_list = re.findall(p, html)\n",
    "print(len(webtoon_list))\n",
    "\n",
    "# set으로 중복을 없애고 다시 list로 변환 (중복 삭제)\n",
    "webtoon_list = list(set(webtoon_list))\n",
    "pritn(len(webtoon_list))"
   ]
  },
  {
   "cell_type": "code",
   "execution_count": 6,
   "metadata": {},
   "outputs": [
    {
     "ename": "NameError",
     "evalue": "name 're' is not defined",
     "output_type": "error",
     "traceback": [
      "\u001b[0;31m---------------------------------------------------------------------------\u001b[0m",
      "\u001b[0;31mNameError\u001b[0m                                 Traceback (most recent call last)",
      "\u001b[0;32m<ipython-input-6-d49a8a7a5ce2>\u001b[0m in \u001b[0;36m<module>\u001b[0;34m\u001b[0m\n\u001b[1;32m      1\u001b[0m \u001b[0;31m# 4. 각 웹툰이 1주에 총 몇 회 연재되는지 표시\u001b[0m\u001b[0;34m\u001b[0m\u001b[0;34m\u001b[0m\u001b[0;34m\u001b[0m\u001b[0m\n\u001b[0;32m----> 2\u001b[0;31m p = re.compile(r'''\n\u001b[0m\u001b[1;32m      3\u001b[0m                 \u001b[0;34m<\u001b[0m\u001b[0ma\u001b[0m\u001b[0;34m.\u001b[0m\u001b[0;34m*\u001b[0m\u001b[0;31m?\u001b[0m                     \u001b[0;31m# a 태그\u001b[0m\u001b[0;34m\u001b[0m\u001b[0;34m\u001b[0m\u001b[0m\n\u001b[1;32m      4\u001b[0m                 \u001b[0;32mclass\u001b[0m\u001b[0;34m=\u001b[0m\u001b[0;34m\"title\"\u001b[0m\u001b[0;34m.\u001b[0m\u001b[0;34m*\u001b[0m\u001b[0;31m?\u001b[0m\u001b[0;34m>\u001b[0m         \u001b[0;31m# class=title\u001b[0m\u001b[0;34m\u001b[0m\u001b[0;34m\u001b[0m\u001b[0m\n\u001b[1;32m      5\u001b[0m                 \u001b[0;34m(\u001b[0m\u001b[0;31m?\u001b[0m\u001b[0mP\u001b[0m\u001b[0;34m<\u001b[0m\u001b[0mname\u001b[0m\u001b[0;34m>\u001b[0m\u001b[0;34m[\u001b[0m\u001b[0;31m\\\u001b[0m\u001b[0mw\u001b[0m\u001b[0;31m\\\u001b[0m\u001b[0ms\u001b[0m\u001b[0;34m]\u001b[0m\u001b[0;34m+\u001b[0m\u001b[0;34m)\u001b[0m         \u001b[0;31m# a 태그 열고 닫는 사이의 텍스트\u001b[0m\u001b[0;34m\u001b[0m\u001b[0;34m\u001b[0m\u001b[0m\n",
      "\u001b[0;31mNameError\u001b[0m: name 're' is not defined"
     ]
    }
   ],
   "source": [
    "# 4. 각 웹툰이 1주에 총 몇 회 연재되는지 표시\n",
    "p = re.compile(r'''\n",
    "                <a.*?                     # a 태그\n",
    "                class=\"title\".*?>         # class=title\n",
    "                (?P<name>[\\w\\s]+)         # a 태그 열고 닫는 사이의 텍스트\n",
    "                </a>                      # a 태그 닫기\n",
    "                ''', re.X)\n",
    "\n",
    "webtoon_list = re.findall(p, html)\n",
    "\n",
    "webtoon_dict = {}\n",
    "# webtoon_dict.get('유미의 세포들')\n",
    "\n",
    "for title in webtoon_list:\n",
    "#     webtoon_dict에서 title key에 해당하는 값을 가져옴\n",
    "    cur_webtoon_count = webtoon_dict.get(title)\n",
    "    \n",
    "#     title 값이 존재하지 않는 경우(None)\n",
    "    if not cur_webtoon_count:\n",
    "        webtoon_dict[title] = 1    \n",
    "#     title 값이 존재하는 경우\n",
    "    else:\n",
    "        webtoon_dict[title] += 1\n",
    "    print(webtoon_dict)\n",
    "    \n",
    "webtoon_dict"
   ]
  },
  {
   "cell_type": "code",
   "execution_count": 1,
   "metadata": {},
   "outputs": [
    {
     "ename": "SyntaxError",
     "evalue": "invalid syntax (<ipython-input-1-dac133471e00>, line 1)",
     "output_type": "error",
     "traceback": [
      "\u001b[0;36m  File \u001b[0;32m\"<ipython-input-1-dac133471e00>\"\u001b[0;36m, line \u001b[0;32m1\u001b[0m\n\u001b[0;31m    = re.compile(r'''\u001b[0m\n\u001b[0m    ^\u001b[0m\n\u001b[0;31mSyntaxError\u001b[0m\u001b[0;31m:\u001b[0m invalid syntax\n"
     ]
    }
   ],
   "source": [
    " = re.compile(r'''\n",
    "                <a.*?                     # a 태그\n",
    "                class=\"title\".*?>         # class=title\n",
    "                (?P<name>[\\w\\s]+)         # a 태그 열고 닫는 사이의 텍스트\n",
    "                </a>                      # a 태그 닫기\n",
    "                ''', re.X)\n",
    "\n",
    "webtoon_list = re.findall(p, html)\n",
    "\n",
    "webtoon_dict = {}\n",
    "\n",
    "# for title in webtoon_list:\n",
    "#     cur_webtoon_count = webtoon_dict.get(title)\n",
    "    \n",
    "#     if not cur_webtoon_count:\n",
    "#         webtoon_dict[title] = 1   \n",
    "#     else:\n",
    "#         webtoon_dict[title] += 1\n",
    "#     print(webtoon_dict)\n",
    "\n",
    "# Counter 사용\n",
    "from collections import Counter\n",
    "webtoon_dict = Counter(webtoon_list)\n",
    "\n",
    "webtoon_dict"
   ]
  },
  {
   "cell_type": "code",
   "execution_count": 3,
   "metadata": {},
   "outputs": [
    {
     "ename": "NameError",
     "evalue": "name 'webtoon_dict' is not defined",
     "output_type": "error",
     "traceback": [
      "\u001b[0;31m---------------------------------------------------------------------------\u001b[0m",
      "\u001b[0;31mNameError\u001b[0m                                 Traceback (most recent call last)",
      "\u001b[0;32m<ipython-input-3-d2a0d611174f>\u001b[0m in \u001b[0;36m<module>\u001b[0;34m\u001b[0m\n\u001b[1;32m      2\u001b[0m \u001b[0mwebtoon_count_dict\u001b[0m \u001b[0;34m=\u001b[0m \u001b[0;34m{\u001b[0m\u001b[0;34m}\u001b[0m\u001b[0;34m\u001b[0m\u001b[0;34m\u001b[0m\u001b[0m\n\u001b[1;32m      3\u001b[0m \u001b[0;34m\u001b[0m\u001b[0m\n\u001b[0;32m----> 4\u001b[0;31m \u001b[0;32mfor\u001b[0m \u001b[0mtitle\u001b[0m\u001b[0;34m,\u001b[0m \u001b[0mcount\u001b[0m \u001b[0;32min\u001b[0m \u001b[0mwebtoon_dict\u001b[0m\u001b[0;34m.\u001b[0m\u001b[0mitems\u001b[0m\u001b[0;34m(\u001b[0m\u001b[0;34m)\u001b[0m\u001b[0;34m:\u001b[0m\u001b[0;34m\u001b[0m\u001b[0;34m\u001b[0m\u001b[0m\n\u001b[0m\u001b[1;32m      5\u001b[0m     \u001b[0;31m# count를 key로 사용, value가 없는 경우 빈 리스트를 value로 할당\u001b[0m\u001b[0;34m\u001b[0m\u001b[0;34m\u001b[0m\u001b[0;34m\u001b[0m\u001b[0m\n\u001b[1;32m      6\u001b[0m     \u001b[0mwebtoon_count_dict\u001b[0m\u001b[0;34m.\u001b[0m\u001b[0msetdefault\u001b[0m\u001b[0;34m(\u001b[0m\u001b[0mcount\u001b[0m\u001b[0;34m,\u001b[0m \u001b[0;34m[\u001b[0m\u001b[0;34m]\u001b[0m\u001b[0;34m)\u001b[0m\u001b[0;34m\u001b[0m\u001b[0;34m\u001b[0m\u001b[0m\n",
      "\u001b[0;31mNameError\u001b[0m: name 'webtoon_dict' is not defined"
     ]
    }
   ],
   "source": [
    "# 위 webtoon_dict를 주간 연재 횟수 순으로 정렬\n",
    "# count 기준으로 새 dict 생성\n",
    "webtoon_count_dict = {}\n",
    "\n",
    "for title, count in webtoon_dict.items():\n",
    "    # count를 key로 사용, value가 없는 경우 빈 리스트를 value로 할당\n",
    "    webtoon_count_dict.setdefault(count, [])\n",
    "    webtoon_count_dict[count].append(title)\n",
    "    \n",
    "webtoon_count_dict\n",
    "\n",
    "s = OrderedDict(sorted(webtoon_count_dict.items(), key=lambda item: item[0], reverse=True))\n",
    "s"
   ]
  },
  {
   "cell_type": "code",
   "execution_count": 4,
   "metadata": {},
   "outputs": [
    {
     "data": {
      "text/plain": [
       "OrderedDict()"
      ]
     },
     "execution_count": 4,
     "metadata": {},
     "output_type": "execute_result"
    }
   ],
   "source": [
    "# operator.itemgetter 사용\n",
    "import operator\n",
    "from collections import OrderedDict\n",
    "\n",
    "s = OrderedDict(sorted(webtoon_count_dict.items(), key=operator.itemgetter(1), reverse=True))\n",
    "s"
   ]
  },
  {
   "cell_type": "code",
   "execution_count": 5,
   "metadata": {},
   "outputs": [
    {
     "data": {
      "text/plain": [
       "OrderedDict()"
      ]
     },
     "execution_count": 5,
     "metadata": {},
     "output_type": "execute_result"
    }
   ],
   "source": [
    "# key에 lambda 함수\n",
    "from collections import OrderedDict\n",
    "\n",
    "s = OrderedDict(sorted(webtoon_count_dict.items(), key=lambda item: item[1], reverse=True))\n",
    "s"
   ]
  },
  {
   "cell_type": "code",
   "execution_count": 9,
   "metadata": {},
   "outputs": [
    {
     "data": {
      "text/plain": [
       "OrderedDict()"
      ]
     },
     "execution_count": 9,
     "metadata": {},
     "output_type": "execute_result"
    }
   ],
   "source": [
    "# 1. 주간 연재 횟수 순\n",
    "# 2. 같은 경우 제목 순\n",
    "from collections import OrderedDict\n",
    "\n",
    "def webtoon_sort(item):\n",
    "    return (-item[1], item[0])\n",
    "\n",
    "s = OrderedDict(sorted(webtoon_count_dict.items(), key=webtoon_sort))\n",
    "s"
   ]
  }
 ],
 "metadata": {
  "kernelspec": {
   "display_name": "Python 3",
   "language": "python",
   "name": "python3"
  },
  "language_info": {
   "codemirror_mode": {
    "name": "ipython",
    "version": 3
   },
   "file_extension": ".py",
   "mimetype": "text/x-python",
   "name": "python",
   "nbconvert_exporter": "python",
   "pygments_lexer": "ipython3",
   "version": "3.7.3"
  }
 },
 "nbformat": 4,
 "nbformat_minor": 2
}
