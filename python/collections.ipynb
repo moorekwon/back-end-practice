{
 "cells": [
  {
   "cell_type": "code",
   "execution_count": 1,
   "metadata": {},
   "outputs": [],
   "source": [
    "portfolio = [\n",
    "    ('GOOG', 100, 490.1),\n",
    "    ('IBM', 50, 91.1),\n",
    "    ('CAT', 150, 83.44),\n",
    "    ('IBM', 100, 45.23),\n",
    "    ('GOOG', 75, 572.45),\n",
    "    ('AA', 50, 23.15)\n",
    "]"
   ]
  },
  {
   "cell_type": "code",
   "execution_count": 4,
   "metadata": {},
   "outputs": [
    {
     "data": {
      "text/plain": [
       "Counter({'GOOG': 175, 'IBM': 150, 'CAT': 150, 'AA': 50})"
      ]
     },
     "execution_count": 4,
     "metadata": {},
     "output_type": "execute_result"
    }
   ],
   "source": [
    "# 종목별로 합산\n",
    "from collections import Counter\n",
    "\n",
    "total_shares = Counter()\n",
    "\n",
    "for name, shares, price in portfolio:\n",
    "    total_shares[name] += shares\n",
    "\n",
    "total_shares"
   ]
  },
  {
   "cell_type": "code",
   "execution_count": 7,
   "metadata": {},
   "outputs": [
    {
     "data": {
      "text/plain": [
       "150"
      ]
     },
     "execution_count": 7,
     "metadata": {},
     "output_type": "execute_result"
    }
   ],
   "source": [
    "total_shares['IBM']"
   ]
  },
  {
   "cell_type": "code",
   "execution_count": 6,
   "metadata": {},
   "outputs": [
    {
     "data": {
      "text/plain": [
       "defaultdict(list,\n",
       "            {'GOOG': [(100, 490.1), (75, 572.45)],\n",
       "             'IBM': [(50, 91.1), (100, 45.23)],\n",
       "             'CAT': [(150, 83.44)],\n",
       "             'AA': [(50, 23.15)]})"
      ]
     },
     "execution_count": 6,
     "metadata": {},
     "output_type": "execute_result"
    }
   ],
   "source": [
    "# 하나의 키를 여러 개의 값에 매핑\n",
    "from collections import defaultdict\n",
    "\n",
    "holdings = defaultdict(list)\n",
    "\n",
    "for name, shares, price in portfolio:\n",
    "    holdings[name].append((shares, price))\n",
    "\n",
    "holdings"
   ]
  },
  {
   "cell_type": "code",
   "execution_count": 8,
   "metadata": {},
   "outputs": [
    {
     "data": {
      "text/plain": [
       "[(50, 91.1), (100, 45.23)]"
      ]
     },
     "execution_count": 8,
     "metadata": {},
     "output_type": "execute_result"
    }
   ],
   "source": [
    "holdings['IBM']"
   ]
  },
  {
   "cell_type": "code",
   "execution_count": 22,
   "metadata": {},
   "outputs": [],
   "source": [
    "# 마지막 N개의 이력(history) 유지\n",
    "from collections import deque\n",
    "\n",
    "def dq(N, filename):\n",
    "    history = deque(maxlen=N)\n",
    "\n",
    "    with open(filename) as f:\n",
    "        for line in f:\n",
    "            print('line >> ', line)\n",
    "            history.append(line)\n",
    "    return history"
   ]
  },
  {
   "cell_type": "code",
   "execution_count": 24,
   "metadata": {},
   "outputs": [
    {
     "name": "stdout",
     "output_type": "stream",
     "text": [
      "line >>  name,shares,price\n",
      "\n",
      "line >>  \"AA\",100,32.20\n",
      "\n",
      "line >>  \"IBM\",50,91.10\n",
      "\n",
      "line >>  \"CAT\",150,83.44\n",
      "\n",
      "line >>  \"MSFT\",200,51.23\n",
      "\n",
      "line >>  \"GE\",95,40.37\n",
      "\n",
      "line >>  \"MSFT\",50,65.10\n",
      "\n",
      "line >>  \"IBM\",100,70.44\n",
      "\n"
     ]
    },
    {
     "data": {
      "text/plain": [
       "deque(['\"MSFT\",200,51.23\\n',\n",
       "       '\"GE\",95,40.37\\n',\n",
       "       '\"MSFT\",50,65.10\\n',\n",
       "       '\"IBM\",100,70.44\\n'])"
      ]
     },
     "execution_count": 24,
     "metadata": {},
     "output_type": "execute_result"
    }
   ],
   "source": [
    "dq(4, 'portfolio.csv')"
   ]
  },
  {
   "cell_type": "code",
   "execution_count": 27,
   "metadata": {},
   "outputs": [],
   "source": [
    "import csv\n",
    "\n",
    "def read_portfolio(filename):\n",
    "    portfolio = []\n",
    "    \n",
    "    with open(filename, 'rt') as f:\n",
    "        rows = csv.reader(f)\n",
    "        headers = next(rows)\n",
    "        \n",
    "        for row in rows:\n",
    "            holding = {}\n",
    "            holding[headers[0]], holding[headers[1]], holding[headers[2]] = str(row[0]), int(row[1]), float(row[2])\n",
    "            portfolio.append(holding)\n",
    "    return portfolio"
   ]
  },
  {
   "cell_type": "code",
   "execution_count": 28,
   "metadata": {},
   "outputs": [
    {
     "data": {
      "text/plain": [
       "[{'name': 'AA', 'shares': 100, 'price': 32.2},\n",
       " {'name': 'IBM', 'shares': 50, 'price': 91.1},\n",
       " {'name': 'CAT', 'shares': 150, 'price': 83.44},\n",
       " {'name': 'MSFT', 'shares': 200, 'price': 51.23},\n",
       " {'name': 'GE', 'shares': 95, 'price': 40.37},\n",
       " {'name': 'MSFT', 'shares': 50, 'price': 65.1},\n",
       " {'name': 'IBM', 'shares': 100, 'price': 70.44}]"
      ]
     },
     "execution_count": 28,
     "metadata": {},
     "output_type": "execute_result"
    }
   ],
   "source": [
    "portfolio = read_portfolio('portfolio.csv')\n",
    "portfolio"
   ]
  },
  {
   "cell_type": "code",
   "execution_count": 31,
   "metadata": {},
   "outputs": [
    {
     "data": {
      "text/plain": [
       "Counter({'AA': 100, 'IBM': 150, 'CAT': 150, 'MSFT': 250, 'GE': 95})"
      ]
     },
     "execution_count": 31,
     "metadata": {},
     "output_type": "execute_result"
    }
   ],
   "source": [
    "holdings = Counter()\n",
    "\n",
    "for s in portfolio:\n",
    "    holdings[s['name']] += s['shares']\n",
    "\n",
    "holdings"
   ]
  },
  {
   "cell_type": "code",
   "execution_count": 33,
   "metadata": {},
   "outputs": [
    {
     "data": {
      "text/plain": [
       "[('MSFT', 250), ('IBM', 150), ('CAT', 150)]"
      ]
     },
     "execution_count": 33,
     "metadata": {},
     "output_type": "execute_result"
    }
   ],
   "source": [
    "# 가장 많이 보유한 종목 3가지\n",
    "holdings.most_common(3)"
   ]
  },
  {
   "cell_type": "code",
   "execution_count": 34,
   "metadata": {},
   "outputs": [
    {
     "data": {
      "text/plain": [
       "[{'name': 'AA', 'shares': 50, 'price': 27.1},\n",
       " {'name': 'HPQ', 'shares': 250, 'price': 43.15},\n",
       " {'name': 'MSFT', 'shares': 25, 'price': 50.15},\n",
       " {'name': 'GE', 'shares': 125, 'price': 52.1}]"
      ]
     },
     "execution_count": 34,
     "metadata": {},
     "output_type": "execute_result"
    }
   ],
   "source": [
    "portfolio2 = read_portfolio('portfolio2.csv')\n",
    "portfolio2"
   ]
  },
  {
   "cell_type": "code",
   "execution_count": 35,
   "metadata": {},
   "outputs": [
    {
     "data": {
      "text/plain": [
       "Counter({'AA': 50, 'HPQ': 250, 'MSFT': 25, 'GE': 125})"
      ]
     },
     "execution_count": 35,
     "metadata": {},
     "output_type": "execute_result"
    }
   ],
   "source": [
    "holdings2 = Counter()\n",
    "\n",
    "for s in portfolio2:\n",
    "    holdings2[s['name']] += s['shares']\n",
    "    \n",
    "holdings2"
   ]
  },
  {
   "cell_type": "code",
   "execution_count": 36,
   "metadata": {},
   "outputs": [
    {
     "data": {
      "text/plain": [
       "Counter({'AA': 150,\n",
       "         'IBM': 150,\n",
       "         'CAT': 150,\n",
       "         'MSFT': 275,\n",
       "         'GE': 220,\n",
       "         'HPQ': 250})"
      ]
     },
     "execution_count": 36,
     "metadata": {},
     "output_type": "execute_result"
    }
   ],
   "source": [
    "combined = holdings + holdings2\n",
    "combined"
   ]
  }
 ],
 "metadata": {
  "kernelspec": {
   "display_name": "Python 3",
   "language": "python",
   "name": "python3"
  },
  "language_info": {
   "codemirror_mode": {
    "name": "ipython",
    "version": 3
   },
   "file_extension": ".py",
   "mimetype": "text/x-python",
   "name": "python",
   "nbconvert_exporter": "python",
   "pygments_lexer": "ipython3",
   "version": "3.7.3"
  }
 },
 "nbformat": 4,
 "nbformat_minor": 2
}
